{
  "nbformat": 4,
  "nbformat_minor": 0,
  "metadata": {
    "colab": {
      "provenance": []
    },
    "kernelspec": {
      "name": "python3",
      "display_name": "Python 3"
    },
    "language_info": {
      "name": "python"
    }
  },
  "cells": [
    {
      "cell_type": "markdown",
      "source": [
        "#Json Data handling"
      ],
      "metadata": {
        "id": "HOITHcD5k6Ml"
      }
    },
    {
      "cell_type": "markdown",
      "source": [],
      "metadata": {
        "id": "5nKB-V_-OK-w"
      }
    },
    {
      "cell_type": "code",
      "source": [
        "%%writefile nani.json\n",
        "{\"id\":\"978-0641723445\",\"cat\":\"book\",\"name\":\"The Lightning Thief\",\"author\":\"Rick Riordan\",\"series_t\":\"Percy Jackson and the Olympians\",\"sequence_i\":1,\"genre_s\":\"fantasy\",\"inStock\":true,\"price\":12.50,\"pages_i\":384}\n",
        "{\"id\":\"978-1423103349\",\"cat\":\"paperback\",\"name\":\"The Sea of Monsters\",\"author\":\"Rick Riordan\",\"series_t\":\"Percy Jackson and the Olympians\",\"sequence_i\":2,\"genre_s\":\"fantasy\",\"inStock\":true,\"price\":6.49,\"pages_i\":304}\n",
        "{\"id\":\"978-1857995879\",\"cat\":\"paperback\",\"name\":\"Sophie's World : The Greek Philosophers\",\"author\":\"Jostein Gaarder\",\"sequence_i\":1,\"genre_s\":\"fantasy\",\"inStock\":true,\"price\":3.07,\"pages_i\":64}\n",
        "{\"id\":\"978-1923988177\",\"cat\":\"paperback\",\"name\":\"Lucene in Action, Second Edition\",\"author\":\"Michael McCandless\",\"sequence_i\":1,\"genre_s\":\"IT\",\"inStock\":true,\"price\":30.50,\"pages_i\":475}\n",
        "{\"id\":\"978-1933988077\",\"cat\":\"paperback\",\"name\":\"Lucene in Action, Second Edition\",\"author\":\"Michael McCandless\",\"sequence_i\":1,\"genre_s\":\"IT\",\"inStock\":true,\"price\":30.50,\"pages_i\":475}\n",
        "{\"id\":\"968-1933988177\",\"cat\":\"paperback\",\"name\":\"Lucene in Action, Second Edition\",\"author\":\"Michael McCandless\",\"sequence_i\":1,\"genre_s\":\"IT\",\"inStock\":true,\"price\":30.50,\"pages_i\":300}\n",
        "{\"id\":\"978-2933988077\",\"cat\":\"paperback\",\"name\":\"Lucene in Action, Second Edition\",\"author\":\"Michael McCandless\",\"sequence_i\":1,\"genre_s\":\"IT\",\"inStock\":true,\"price\":30.50,\"pages_i\":475}\n"
      ],
      "metadata": {
        "id": "6nSdN92-Pe_a",
        "outputId": "ef3cbd41-bfa3-49a5-fd9b-5347c01d90b5",
        "colab": {
          "base_uri": "https://localhost:8080/"
        }
      },
      "execution_count": 9,
      "outputs": [
        {
          "output_type": "stream",
          "name": "stdout",
          "text": [
            "Overwriting nani.json\n"
          ]
        }
      ]
    },
    {
      "cell_type": "code",
      "source": [
        "%%writefile nanicolors.json\n",
        "{\"color\": \"black\",  \"category\": \"hue\",  \"type\": \"primary\",  \"code\": {    \"rgba\": [255,255,255,1],    \"hex\": \"#000\"  },\"other\":{\"type\":\"good\"}}\n",
        "{\"color\": \"white\",\"category\": \"value\",\"code\": {\"rgba\": [0,0,0,1],\"hex\": \"#FFF\"},\"other\":{\"type\":\"good\"}}\n",
        "{\"color\": \"red\",\"category\": \"hue\",\"type\": \"primary\",\"code\": {\"rgba\": [255,0,0,1],\"hex\": \"#FF0\"},\"other\":{\"type\":\"ok\"}}\n",
        "{\"color\": \"blue\",\"category\": \"hue\",\"type\": \"primary\",\"code\": {\"rgba\": [0,0,255,1],\"hex\": \"#00F\"},\"other\":{\"type\":\"good\"}}\n",
        "{\"color\": \"yellow\",\"category\": \"hue\",\"type\": \"primary\",\"code\": {\"rgba\": [255,255,0,1],\"hex\": \"#FF0\"},\"other\":{\"type\":\"ok\"}}\n",
        "{\"color\": \"green\",\"category\": \"hue\",\"type\": \"secondary\",\"code\": {\"rgba\": [0,255,0,1],\"hex\": \"#0F0\"},\"other\":{\"type\":\"good\"}}\n"
      ],
      "metadata": {
        "id": "GyR4t5qdVy5C",
        "outputId": "515c24d8-ed0b-43a6-cf08-a263626987df",
        "colab": {
          "base_uri": "https://localhost:8080/"
        }
      },
      "execution_count": 18,
      "outputs": [
        {
          "output_type": "stream",
          "name": "stdout",
          "text": [
            "Overwriting nanicolors.json\n"
          ]
        }
      ]
    },
    {
      "cell_type": "markdown",
      "source": [],
      "metadata": {
        "id": "aMWJXarRPemH"
      }
    },
    {
      "cell_type": "code",
      "execution_count": null,
      "metadata": {
        "id": "k6Y-462uk3wo"
      },
      "outputs": [],
      "source": [
        "#Download sample file data\n",
        "https://kloudkraft-dumps.s3.us-west-1.amazonaws.com/json/books1.json\n",
        "https://kloudkraft-dumps.s3.us-west-1.amazonaws.com/json/colors.json"
      ]
    },
    {
      "cell_type": "code",
      "source": [
        "pip install pyspark\n"
      ],
      "metadata": {
        "id": "QhHbQmFnOLpR",
        "outputId": "3cc6d4bf-ac07-4fa0-c1ec-b08086de3eab",
        "colab": {
          "base_uri": "https://localhost:8080/"
        }
      },
      "execution_count": 2,
      "outputs": [
        {
          "output_type": "stream",
          "name": "stdout",
          "text": [
            "Collecting pyspark\n",
            "  Downloading pyspark-3.5.1.tar.gz (317.0 MB)\n",
            "\u001b[2K     \u001b[90m━━━━━━━━━━━━━━━━━━━━━━━━━━━━━━━━━━━━━━━━\u001b[0m \u001b[32m317.0/317.0 MB\u001b[0m \u001b[31m2.1 MB/s\u001b[0m eta \u001b[36m0:00:00\u001b[0m\n",
            "\u001b[?25h  Preparing metadata (setup.py) ... \u001b[?25l\u001b[?25hdone\n",
            "Requirement already satisfied: py4j==0.10.9.7 in /usr/local/lib/python3.10/dist-packages (from pyspark) (0.10.9.7)\n",
            "Building wheels for collected packages: pyspark\n",
            "  Building wheel for pyspark (setup.py) ... \u001b[?25l\u001b[?25hdone\n",
            "  Created wheel for pyspark: filename=pyspark-3.5.1-py2.py3-none-any.whl size=317488491 sha256=db5cf7cf2f73e460f9194b39fd84cb809539513f868da2c8bacd2814b858baea\n",
            "  Stored in directory: /root/.cache/pip/wheels/80/1d/60/2c256ed38dddce2fdd93be545214a63e02fbd8d74fb0b7f3a6\n",
            "Successfully built pyspark\n",
            "Installing collected packages: pyspark\n",
            "Successfully installed pyspark-3.5.1\n"
          ]
        }
      ]
    },
    {
      "cell_type": "code",
      "source": [
        "#Import Sparksesion\n",
        "from pyspark.sql import SparkSession\n",
        "from pyspark.sql import *"
      ],
      "metadata": {
        "id": "6TeLDAq0k58K"
      },
      "execution_count": 24,
      "outputs": []
    },
    {
      "cell_type": "code",
      "source": [
        "#Create SparkSession\n",
        "spark=SparkSession.builder.appName('nani').getOrCreate()"
      ],
      "metadata": {
        "id": "VrGF2m1dlsGn"
      },
      "execution_count": 4,
      "outputs": []
    },
    {
      "cell_type": "code",
      "source": [
        "#Create dataframe from parquet file\n",
        "df=spark.read.option('Header','True').json('nani.json')\n",
        "df1=spark.read.option('Header','True').json('nanicolors.json')"
      ],
      "metadata": {
        "id": "hmCPMsMRlsJb"
      },
      "execution_count": 21,
      "outputs": []
    },
    {
      "cell_type": "code",
      "source": [
        "#Print dataframe schema\n",
        "df.printSchema()\n",
        "df1.printSchema()"
      ],
      "metadata": {
        "id": "ExE-kNcwlsME",
        "outputId": "c1808b81-d6c2-4db1-e2e4-e1a64db0688d",
        "colab": {
          "base_uri": "https://localhost:8080/"
        }
      },
      "execution_count": 22,
      "outputs": [
        {
          "output_type": "stream",
          "name": "stdout",
          "text": [
            "root\n",
            " |-- author: string (nullable = true)\n",
            " |-- cat: string (nullable = true)\n",
            " |-- genre_s: string (nullable = true)\n",
            " |-- id: string (nullable = true)\n",
            " |-- inStock: boolean (nullable = true)\n",
            " |-- name: string (nullable = true)\n",
            " |-- pages_i: long (nullable = true)\n",
            " |-- price: double (nullable = true)\n",
            " |-- sequence_i: long (nullable = true)\n",
            " |-- series_t: string (nullable = true)\n",
            "\n",
            "root\n",
            " |-- category: string (nullable = true)\n",
            " |-- code: struct (nullable = true)\n",
            " |    |-- hex: string (nullable = true)\n",
            " |    |-- rgba: array (nullable = true)\n",
            " |    |    |-- element: long (containsNull = true)\n",
            " |-- color: string (nullable = true)\n",
            " |-- other: struct (nullable = true)\n",
            " |    |-- type: string (nullable = true)\n",
            " |-- type: string (nullable = true)\n",
            "\n"
          ]
        }
      ]
    },
    {
      "cell_type": "code",
      "source": [
        "#Show dataframe\n",
        "df.show()\n",
        "df1.show()"
      ],
      "metadata": {
        "id": "ZQToN44IlsOt",
        "outputId": "cd023f0f-e6d5-4588-d0f1-3f1a4dab0820",
        "colab": {
          "base_uri": "https://localhost:8080/"
        }
      },
      "execution_count": 23,
      "outputs": [
        {
          "output_type": "stream",
          "name": "stdout",
          "text": [
            "+------------------+---------+-------+--------------+-------+--------------------+-------+-----+----------+--------------------+\n",
            "|            author|      cat|genre_s|            id|inStock|                name|pages_i|price|sequence_i|            series_t|\n",
            "+------------------+---------+-------+--------------+-------+--------------------+-------+-----+----------+--------------------+\n",
            "|      Rick Riordan|     book|fantasy|978-0641723445|   true| The Lightning Thief|    384| 12.5|         1|Percy Jackson and...|\n",
            "|      Rick Riordan|paperback|fantasy|978-1423103349|   true| The Sea of Monsters|    304| 6.49|         2|Percy Jackson and...|\n",
            "|   Jostein Gaarder|paperback|fantasy|978-1857995879|   true|Sophie's World : ...|     64| 3.07|         1|                NULL|\n",
            "|Michael McCandless|paperback|     IT|978-1923988177|   true|Lucene in Action,...|    475| 30.5|         1|                NULL|\n",
            "|Michael McCandless|paperback|     IT|978-1933988077|   true|Lucene in Action,...|    475| 30.5|         1|                NULL|\n",
            "|Michael McCandless|paperback|     IT|968-1933988177|   true|Lucene in Action,...|    300| 30.5|         1|                NULL|\n",
            "|Michael McCandless|paperback|     IT|978-2933988077|   true|Lucene in Action,...|    475| 30.5|         1|                NULL|\n",
            "+------------------+---------+-------+--------------+-------+--------------------+-------+-----+----------+--------------------+\n",
            "\n",
            "+--------+--------------------+------+------+---------+\n",
            "|category|                code| color| other|     type|\n",
            "+--------+--------------------+------+------+---------+\n",
            "|     hue|{#000, [255, 255,...| black|{good}|  primary|\n",
            "|   value|{#FFF, [0, 0, 0, 1]}| white|{good}|     NULL|\n",
            "|     hue|{#FF0, [255, 0, 0...|   red|  {ok}|  primary|\n",
            "|     hue|{#00F, [0, 0, 255...|  blue|{good}|  primary|\n",
            "|     hue|{#FF0, [255, 255,...|yellow|  {ok}|  primary|\n",
            "|     hue|{#0F0, [0, 255, 0...| green|{good}|secondary|\n",
            "+--------+--------------------+------+------+---------+\n",
            "\n"
          ]
        }
      ]
    },
    {
      "cell_type": "markdown",
      "source": [
        "* Perform any 3 data cleaning operations"
      ],
      "metadata": {
        "id": "YnPqSKSEmS1_"
      }
    },
    {
      "cell_type": "code",
      "source": [
        "#O1 retrive authors where pages is greater than 350\n",
        "#df[df['pages_i'] > 350].show()\n",
        "df.filter(df.pages_i > 350).show()\n",
        "\n",
        "\n"
      ],
      "metadata": {
        "id": "yk0D7EAwlsSU",
        "outputId": "a77c6a88-096b-4d65-b822-7860787fe6f1",
        "colab": {
          "base_uri": "https://localhost:8080/"
        }
      },
      "execution_count": 29,
      "outputs": [
        {
          "output_type": "stream",
          "name": "stdout",
          "text": [
            "+------------------+---------+-------+--------------+-------+--------------------+-------+-----+----------+--------------------+\n",
            "|            author|      cat|genre_s|            id|inStock|                name|pages_i|price|sequence_i|            series_t|\n",
            "+------------------+---------+-------+--------------+-------+--------------------+-------+-----+----------+--------------------+\n",
            "|      Rick Riordan|     book|fantasy|978-0641723445|   true| The Lightning Thief|    384| 12.5|         1|Percy Jackson and...|\n",
            "|Michael McCandless|paperback|     IT|978-1923988177|   true|Lucene in Action,...|    475| 30.5|         1|                NULL|\n",
            "|Michael McCandless|paperback|     IT|978-1933988077|   true|Lucene in Action,...|    475| 30.5|         1|                NULL|\n",
            "|Michael McCandless|paperback|     IT|978-2933988077|   true|Lucene in Action,...|    475| 30.5|         1|                NULL|\n",
            "+------------------+---------+-------+--------------+-------+--------------------+-------+-----+----------+--------------------+\n",
            "\n"
          ]
        }
      ]
    },
    {
      "cell_type": "code",
      "source": [
        "#O2 count of pages for each book\n",
        "\n",
        "df.groupBy('author','cat','genre_s').agg({'pages_i':'sum'}).show()\n",
        "\n",
        "\n"
      ],
      "metadata": {
        "id": "72KXSX-umb4c",
        "outputId": "79178ed5-aaa7-4f06-f961-c9c6eccd4075",
        "colab": {
          "base_uri": "https://localhost:8080/"
        }
      },
      "execution_count": 32,
      "outputs": [
        {
          "output_type": "stream",
          "name": "stdout",
          "text": [
            "+------------------+---------+-------+------------+\n",
            "|            author|      cat|genre_s|sum(pages_i)|\n",
            "+------------------+---------+-------+------------+\n",
            "|   Jostein Gaarder|paperback|fantasy|          64|\n",
            "|      Rick Riordan|paperback|fantasy|         304|\n",
            "|      Rick Riordan|     book|fantasy|         384|\n",
            "|Michael McCandless|paperback|     IT|        1725|\n",
            "+------------------+---------+-------+------------+\n",
            "\n"
          ]
        }
      ]
    },
    {
      "cell_type": "code",
      "source": [
        "#O3\n",
        "df.withColumn('total',df.pages_i + df.price).show()"
      ],
      "metadata": {
        "id": "I2eV7jKVmb7Q",
        "outputId": "c1d1200d-ad60-494a-a882-1228e44f064b",
        "colab": {
          "base_uri": "https://localhost:8080/"
        }
      },
      "execution_count": 34,
      "outputs": [
        {
          "output_type": "stream",
          "name": "stdout",
          "text": [
            "+------------------+---------+-------+--------------+-------+--------------------+-------+-----+----------+--------------------+------+\n",
            "|            author|      cat|genre_s|            id|inStock|                name|pages_i|price|sequence_i|            series_t| total|\n",
            "+------------------+---------+-------+--------------+-------+--------------------+-------+-----+----------+--------------------+------+\n",
            "|      Rick Riordan|     book|fantasy|978-0641723445|   true| The Lightning Thief|    384| 12.5|         1|Percy Jackson and...| 396.5|\n",
            "|      Rick Riordan|paperback|fantasy|978-1423103349|   true| The Sea of Monsters|    304| 6.49|         2|Percy Jackson and...|310.49|\n",
            "|   Jostein Gaarder|paperback|fantasy|978-1857995879|   true|Sophie's World : ...|     64| 3.07|         1|                NULL| 67.07|\n",
            "|Michael McCandless|paperback|     IT|978-1923988177|   true|Lucene in Action,...|    475| 30.5|         1|                NULL| 505.5|\n",
            "|Michael McCandless|paperback|     IT|978-1933988077|   true|Lucene in Action,...|    475| 30.5|         1|                NULL| 505.5|\n",
            "|Michael McCandless|paperback|     IT|968-1933988177|   true|Lucene in Action,...|    300| 30.5|         1|                NULL| 330.5|\n",
            "|Michael McCandless|paperback|     IT|978-2933988077|   true|Lucene in Action,...|    475| 30.5|         1|                NULL| 505.5|\n",
            "+------------------+---------+-------+--------------+-------+--------------------+-------+-----+----------+--------------------+------+\n",
            "\n"
          ]
        }
      ]
    },
    {
      "cell_type": "markdown",
      "source": [
        "* Fetch any 5 insights from data"
      ],
      "metadata": {
        "id": "WotP1zJFmfyo"
      }
    },
    {
      "cell_type": "code",
      "source": [
        "#Transformation1 : get the count of each book\n",
        "\n",
        "df.groupBy('cat').count().show()\n"
      ],
      "metadata": {
        "id": "HQG8Eu4IlsU6",
        "outputId": "0fcfb642-2103-496f-8743-fa5d1e0680de",
        "colab": {
          "base_uri": "https://localhost:8080/"
        }
      },
      "execution_count": 48,
      "outputs": [
        {
          "output_type": "stream",
          "name": "stdout",
          "text": [
            "+---------+-----+\n",
            "|      cat|count|\n",
            "+---------+-----+\n",
            "|paperback|    6|\n",
            "|     book|    1|\n",
            "+---------+-----+\n",
            "\n"
          ]
        }
      ]
    },
    {
      "cell_type": "code",
      "source": [
        "#Transformation2 : Authors with the highest total number of pages written\n",
        "df.groupBy('author').agg({'pages_i': 'sum'}).orderBy('sum(pages_i)', ascending=False).show()\n",
        "\n"
      ],
      "metadata": {
        "id": "4A3o6h9MlsW6",
        "outputId": "dabbb5a9-d452-4366-bef9-c2a0d4125b6f",
        "colab": {
          "base_uri": "https://localhost:8080/"
        }
      },
      "execution_count": 40,
      "outputs": [
        {
          "output_type": "stream",
          "name": "stdout",
          "text": [
            "+------------------+------------+\n",
            "|            author|sum(pages_i)|\n",
            "+------------------+------------+\n",
            "|Michael McCandless|        1725|\n",
            "|      Rick Riordan|         688|\n",
            "|   Jostein Gaarder|          64|\n",
            "+------------------+------------+\n",
            "\n"
          ]
        }
      ]
    },
    {
      "cell_type": "code",
      "source": [
        "#Transformation3: Number of books in stock per genre\n",
        "df.filter(df.inStock == True).groupBy('genre_s').count().show()\n"
      ],
      "metadata": {
        "id": "rtLZn4CwmnVu",
        "outputId": "de5d6399-6fe6-42d1-8e6f-92cfa72b48b3",
        "colab": {
          "base_uri": "https://localhost:8080/"
        }
      },
      "execution_count": 41,
      "outputs": [
        {
          "output_type": "stream",
          "name": "stdout",
          "text": [
            "+-------+-----+\n",
            "|genre_s|count|\n",
            "+-------+-----+\n",
            "|fantasy|    3|\n",
            "|     IT|    4|\n",
            "+-------+-----+\n",
            "\n"
          ]
        }
      ]
    },
    {
      "cell_type": "code",
      "source": [
        "#Transformation4 :  Average price of books in each genre\n",
        "df.groupBy('genre_s').agg({'price': 'mean'}).show()\n",
        "\n"
      ],
      "metadata": {
        "id": "zuLy9UKGmnYz",
        "outputId": "08612424-9880-4888-9db7-982c4460c822",
        "colab": {
          "base_uri": "https://localhost:8080/"
        }
      },
      "execution_count": 42,
      "outputs": [
        {
          "output_type": "stream",
          "name": "stdout",
          "text": [
            "+-------+-----------------+\n",
            "|genre_s|       avg(price)|\n",
            "+-------+-----------------+\n",
            "|fantasy|7.353333333333334|\n",
            "|     IT|             30.5|\n",
            "+-------+-----------------+\n",
            "\n"
          ]
        }
      ]
    },
    {
      "cell_type": "code",
      "source": [
        "#Transformation5 count of colour based on category\n",
        "\n",
        "df1.groupBy('category').count().show()\n",
        "\n",
        "\n",
        "\n",
        "\n"
      ],
      "metadata": {
        "id": "PoCICV0Wmnbg",
        "outputId": "bc9892cf-25f5-4f11-e92d-d179953f075d",
        "colab": {
          "base_uri": "https://localhost:8080/"
        }
      },
      "execution_count": 46,
      "outputs": [
        {
          "output_type": "stream",
          "name": "stdout",
          "text": [
            "+--------+-----+\n",
            "|category|count|\n",
            "+--------+-----+\n",
            "|     hue|    5|\n",
            "|   value|    1|\n",
            "+--------+-----+\n",
            "\n"
          ]
        }
      ]
    }
  ]
}