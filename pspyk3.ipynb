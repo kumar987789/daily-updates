{
  "nbformat": 4,
  "nbformat_minor": 0,
  "metadata": {
    "colab": {
      "provenance": []
    },
    "kernelspec": {
      "name": "python3",
      "display_name": "Python 3"
    },
    "language_info": {
      "name": "python"
    }
  },
  "cells": [
    {
      "cell_type": "markdown",
      "source": [
        "#PySpark Practice Notebook\n",
        "Experimenting further with Spark Dataframes"
      ],
      "metadata": {
        "id": "vyfMDH344XZy"
      }
    },
    {
      "cell_type": "code",
      "execution_count": null,
      "metadata": {
        "id": "oEO4Bljq4SDh"
      },
      "outputs": [],
      "source": [
        "#Create CSV files for the following Datasets\n",
        "\n",
        "patients\n",
        "patientId,firstName,lastName,age\n",
        "101,Alice,Smith,30\n",
        "102,Bob,Johnson,45\n",
        "103,Charlie,Williams,50\n",
        "104,John,Smith,78\n",
        "\n",
        "visits\n",
        "visitId,patientId,visitDuration\n",
        "1,101,15\n",
        "2,101,30\n",
        "3,102,45\n",
        "4,102,30\n",
        "5,104,20\n",
        "6,103,60\n",
        "7,103,50\n",
        "8,104,45\n",
        "9,,45\n",
        "10,101,30\n",
        "11,103,40\n",
        "12,,30\n",
        "13,104,25\n",
        "15,102,15"
      ]
    },
    {
      "cell_type": "code",
      "source": [
        "#Import necessary spark libraries\n"
      ],
      "metadata": {
        "id": "G2y2JZQY4XAi"
      },
      "execution_count": null,
      "outputs": []
    },
    {
      "cell_type": "code",
      "source": [
        "#Create a SparkSession\n"
      ],
      "metadata": {
        "id": "8Om-g7u26QQw"
      },
      "execution_count": null,
      "outputs": []
    },
    {
      "cell_type": "code",
      "source": [
        "#Create dataframes from CSV files using enforced Schema\n",
        "#Schems Directive [Names as string, everything else as integers]\n"
      ],
      "metadata": {
        "id": "VKkwIx3I6QOJ"
      },
      "execution_count": null,
      "outputs": []
    },
    {
      "cell_type": "code",
      "source": [
        "#Display all the valid visits\n",
        "\n",
        "\n",
        "#Fetch the total number of valid visits\n"
      ],
      "metadata": {
        "id": "B5Jx7nYN6QTo"
      },
      "execution_count": null,
      "outputs": []
    },
    {
      "cell_type": "code",
      "source": [
        "#Get the total hours of patient visit\n"
      ],
      "metadata": {
        "id": "kI7EdZZR6QV0"
      },
      "execution_count": null,
      "outputs": []
    },
    {
      "cell_type": "code",
      "source": [
        "#Fetch the top two most visited patients on the basis of occurances\n"
      ],
      "metadata": {
        "id": "dLrXfV1f6QYT"
      },
      "execution_count": null,
      "outputs": []
    },
    {
      "cell_type": "code",
      "source": [
        "#Add a new column patientFullName & display complete dataframe\n"
      ],
      "metadata": {
        "id": "T4M1XTw56Qat"
      },
      "execution_count": null,
      "outputs": []
    },
    {
      "cell_type": "code",
      "source": [
        "#Display the name of patients with maximum visiting hours\n"
      ],
      "metadata": {
        "id": "Ecq6DnjA6QdB"
      },
      "execution_count": null,
      "outputs": []
    },
    {
      "cell_type": "code",
      "source": [
        "#Find the patient with maximum visiting hours in a single visit\n"
      ],
      "metadata": {
        "id": "TSqXIP_i6QfX"
      },
      "execution_count": null,
      "outputs": []
    },
    {
      "cell_type": "code",
      "source": [
        "#Show the patient info according to age-seniority\n"
      ],
      "metadata": {
        "id": "Arpnz5O36Qhu"
      },
      "execution_count": null,
      "outputs": []
    }
  ]
}