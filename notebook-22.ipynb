{
  "cells": [
    {
      "cell_type": "markdown",
      "metadata": {
        "id": "W6NeVZKBJR5G"
      },
      "source": [
        "#PySpark Practice Notebook"
      ]
    },
    {
      "cell_type": "code",
      "execution_count": 5,
      "metadata": {
        "id": "PQ1dB4lsJRQZ",
        "outputId": "04cc6f2b-28b3-44af-f298-e4fd6bc720b4",
        "colab": {
          "base_uri": "https://localhost:8080/"
        }
      },
      "outputs": [
        {
          "output_type": "stream",
          "name": "stdout",
          "text": [
            "Writing country.csv\n"
          ]
        }
      ],
      "source": [
        "#Source Data\n",
        "#Create a csv file for the following data\n",
        "%%writefile country.csv\n",
        "product_id,product,country,sales\n",
        "1,Product A,USA,100\n",
        "2,Product B,USA,80\n",
        "3,Product C,USA,30\n",
        "1,Product A,Canada,60\n",
        "2,Product B,Canada,40\n",
        "4,Product D,UK,50\n",
        "5,Product E,UK,20\n",
        "1,Product A,Germany,70\n",
        "3,Product C,Germany,90\n",
        "4,Product D,Germany,40"
      ]
    },
    {
      "cell_type": "code",
      "execution_count": 1,
      "metadata": {
        "id": "z3H-jZd_I0xr",
        "outputId": "7720205d-3d8c-4fff-a59b-bf847200f4d5",
        "colab": {
          "base_uri": "https://localhost:8080/"
        }
      },
      "outputs": [
        {
          "output_type": "stream",
          "name": "stdout",
          "text": [
            "Collecting pyspark\n",
            "  Downloading pyspark-3.5.1.tar.gz (317.0 MB)\n",
            "\u001b[2K     \u001b[90m━━━━━━━━━━━━━━━━━━━━━━━━━━━━━━━━━━━━━━━━\u001b[0m \u001b[32m317.0/317.0 MB\u001b[0m \u001b[31m4.4 MB/s\u001b[0m eta \u001b[36m0:00:00\u001b[0m\n",
            "\u001b[?25h  Preparing metadata (setup.py) ... \u001b[?25l\u001b[?25hdone\n",
            "Requirement already satisfied: py4j==0.10.9.7 in /usr/local/lib/python3.10/dist-packages (from pyspark) (0.10.9.7)\n",
            "Building wheels for collected packages: pyspark\n",
            "  Building wheel for pyspark (setup.py) ... \u001b[?25l\u001b[?25hdone\n",
            "  Created wheel for pyspark: filename=pyspark-3.5.1-py2.py3-none-any.whl size=317488490 sha256=0739f2fdc8b8f1f734d6b13b5e7ad6a2c0bbe1a6a02b3d9ea20a6084b37852dc\n",
            "  Stored in directory: /root/.cache/pip/wheels/80/1d/60/2c256ed38dddce2fdd93be545214a63e02fbd8d74fb0b7f3a6\n",
            "Successfully built pyspark\n",
            "Installing collected packages: pyspark\n",
            "Successfully installed pyspark-3.5.1\n"
          ]
        }
      ],
      "source": [
        "\n",
        "pip install pyspark\n"
      ]
    },
    {
      "cell_type": "code",
      "execution_count": 14,
      "metadata": {
        "id": "ZFPi1eqMKFF7"
      },
      "outputs": [],
      "source": [
        "#Create SparkSession for app \"Sales Data Analysis\"\n",
        "from pyspark.sql import SparkSession\n",
        "from pyspark.sql.functions import *"
      ]
    },
    {
      "cell_type": "code",
      "execution_count": 3,
      "metadata": {
        "id": "kLiq1rcAJiV5"
      },
      "outputs": [],
      "source": [
        "#Create a pyspark DataFrame from the csv file on local storage\n",
        "arr=SparkSession.builder.appName('nikhil1').getOrCreate()"
      ]
    },
    {
      "cell_type": "code",
      "execution_count": 18,
      "metadata": {
        "id": "_fQfbu4_JiYf"
      },
      "outputs": [],
      "source": [
        "df=arr.read.option('Header','True').csv('country.csv')"
      ]
    },
    {
      "cell_type": "code",
      "execution_count": 22,
      "metadata": {
        "id": "U4k8qR1zJia2",
        "outputId": "3e3d56ba-ca81-45e9-be89-b01098328daf",
        "colab": {
          "base_uri": "https://localhost:8080/"
        }
      },
      "outputs": [
        {
          "output_type": "stream",
          "name": "stdout",
          "text": [
            "+----------+---------+-------+-----+\n",
            "|product_id|  product|country|sales|\n",
            "+----------+---------+-------+-----+\n",
            "|         1|Product A|Germany|   70|\n",
            "|         3|Product C|Germany|   90|\n",
            "|         4|Product D|Germany|   40|\n",
            "+----------+---------+-------+-----+\n",
            "\n"
          ]
        }
      ],
      "source": [
        "#Display all entries for country \"Germany\"\n",
        "# df.filter(df['country']=='Germany').show()\n",
        "df.filter(df.country == 'Germany').show()"
      ]
    },
    {
      "cell_type": "code",
      "execution_count": null,
      "metadata": {
        "id": "e5PRmHMuJ47W",
        "outputId": "1192a236-0c1d-44ff-8996-2741934c3936"
      },
      "outputs": [
        {
          "data": {
            "text/plain": [
              "10"
            ]
          },
          "execution_count": 38,
          "metadata": {},
          "output_type": "execute_result"
        }
      ],
      "source": [
        "#Find the total number of products\n",
        "df.select('product_id').count()"
      ]
    },
    {
      "cell_type": "code",
      "execution_count": 23,
      "metadata": {
        "id": "fFz6bN_dJ49q",
        "outputId": "4e0a780b-d680-48b0-d170-9542d013047e",
        "colab": {
          "base_uri": "https://localhost:8080/"
        }
      },
      "outputs": [
        {
          "output_type": "stream",
          "name": "stdout",
          "text": [
            "+----------+---------+-------+-----+\n",
            "|product_id|  product|country|sales|\n",
            "+----------+---------+-------+-----+\n",
            "|         3|Product C|Germany|   90|\n",
            "|         2|Product B|    USA|   80|\n",
            "|         1|Product A|Germany|   70|\n",
            "+----------+---------+-------+-----+\n",
            "\n"
          ]
        }
      ],
      "source": [
        "#Find top 3 products\n",
        "#df.sort(df['sales'],ascending=False).show(3)\n",
        "df.orderBy('sales',ascending=False).limit(3).show()\n"
      ]
    },
    {
      "cell_type": "code",
      "execution_count": 28,
      "metadata": {
        "id": "jKkc4EU3t-Ij"
      },
      "outputs": [],
      "source": [
        "from pyspark.sql.functions import col,sum,min,max,avg\n"
      ]
    },
    {
      "cell_type": "code",
      "execution_count": 24,
      "metadata": {
        "id": "j4vyUsi2J5AR",
        "outputId": "c4bce731-ceb6-4178-caed-889a58f024c3",
        "colab": {
          "base_uri": "https://localhost:8080/"
        }
      },
      "outputs": [
        {
          "output_type": "stream",
          "name": "stdout",
          "text": [
            "+----------+\n",
            "|sum(sales)|\n",
            "+----------+\n",
            "|     580.0|\n",
            "+----------+\n",
            "\n"
          ]
        }
      ],
      "source": [
        "#Calculate total sales\n",
        "#df.select(sum('sales')).show()\n",
        "df.agg({'sales':'sum'}).show()"
      ]
    },
    {
      "cell_type": "code",
      "execution_count": null,
      "metadata": {
        "id": "uUJHiUXat-Ik",
        "outputId": "1843e26d-3aff-45d8-8e15-d1fbb8b211a0"
      },
      "outputs": [
        {
          "name": "stdout",
          "output_type": "stream",
          "text": [
            "+----------+\n",
            "|min(sales)|\n",
            "+----------+\n",
            "|       100|\n",
            "+----------+\n",
            "\n"
          ]
        }
      ],
      "source": [
        "df.select(min('sales')).show()"
      ]
    },
    {
      "cell_type": "code",
      "execution_count": null,
      "metadata": {
        "id": "CXdJepivt-Ik",
        "outputId": "60b20666-c722-43b2-fcda-d6cc8eeceded"
      },
      "outputs": [
        {
          "name": "stdout",
          "output_type": "stream",
          "text": [
            "+----------+\n",
            "|max(sales)|\n",
            "+----------+\n",
            "|        90|\n",
            "+----------+\n",
            "\n"
          ]
        }
      ],
      "source": [
        "df.select(max('sales')).show()"
      ]
    },
    {
      "cell_type": "code",
      "execution_count": null,
      "metadata": {
        "id": "-a6GtG8et-Il",
        "outputId": "786f446d-2a8a-44ed-b133-3cb04d4cffbc"
      },
      "outputs": [
        {
          "name": "stdout",
          "output_type": "stream",
          "text": [
            "+----------+\n",
            "|avg(sales)|\n",
            "+----------+\n",
            "|      58.0|\n",
            "+----------+\n",
            "\n"
          ]
        }
      ],
      "source": [
        "df.select(('sales')).show()"
      ]
    },
    {
      "cell_type": "code",
      "source": [
        "# prompt: #Find the market share of all products individually\n",
        "\n",
        "# Calculate total sales for each product\n",
        "product_sales = df.groupBy('product').agg(sum('sales').alias('total_sales'))\n",
        "\n",
        "# Calculate total sales across all products\n",
        "total_sales = product_sales.agg(sum('total_sales')).collect()[0][0]\n",
        "\n",
        "# Calculate market share for each product\n",
        "product_market_share = product_sales.withColumn('market_share', (col('total_sales') / total_sales) * 100)\n",
        "\n",
        "# Display the market share of all products individually\n",
        "product_market_share.show()\n"
      ],
      "metadata": {
        "id": "U2Akz7gjysOW"
      },
      "execution_count": null,
      "outputs": []
    },
    {
      "cell_type": "code",
      "execution_count": null,
      "metadata": {
        "id": "5VW6Xnfut-Il"
      },
      "outputs": [],
      "source": [
        "import pyspark.sql.functions as func"
      ]
    },
    {
      "cell_type": "code",
      "execution_count": 52,
      "metadata": {
        "id": "WTxjxvceJ5Ct",
        "outputId": "f49c74a1-044b-4444-d466-7bf940e37176",
        "colab": {
          "base_uri": "https://localhost:8080/"
        }
      },
      "outputs": [
        {
          "output_type": "stream",
          "name": "stdout",
          "text": [
            "+----------+---------+-------+-----+------------------+\n",
            "|product_id|  product|country|sales|      market_share|\n",
            "+----------+---------+-------+-----+------------------+\n",
            "|         1|Product A|    USA|  100| 17.24137931034483|\n",
            "|         2|Product B|    USA|   80|13.793103448275861|\n",
            "|         3|Product C|    USA|   30| 5.172413793103448|\n",
            "|         1|Product A| Canada|   60|10.344827586206897|\n",
            "|         2|Product B| Canada|   40| 6.896551724137931|\n",
            "|         4|Product D|     UK|   50| 8.620689655172415|\n",
            "|         5|Product E|     UK|   20|3.4482758620689653|\n",
            "|         1|Product A|Germany|   70|12.068965517241379|\n",
            "|         3|Product C|Germany|   90|15.517241379310345|\n",
            "|         4|Product D|Germany|   40| 6.896551724137931|\n",
            "+----------+---------+-------+-----+------------------+\n",
            "\n"
          ]
        }
      ],
      "source": [
        "#Find the market share of all products individually\n",
        "x=df.agg({'sales':'sum'}).collect()[0][0]\n",
        "df.withColumn('market_share',col('sales')/x*100).show()\n",
        "\n",
        "\n",
        "\n"
      ]
    },
    {
      "cell_type": "code",
      "execution_count": null,
      "metadata": {
        "id": "E_JzraH2t-Im"
      },
      "outputs": [],
      "source": []
    }
  ],
  "metadata": {
    "colab": {
      "provenance": []
    },
    "kernelspec": {
      "display_name": "Python 3",
      "language": "python",
      "name": "python3"
    },
    "language_info": {
      "codemirror_mode": {
        "name": "ipython",
        "version": 3
      },
      "file_extension": ".py",
      "mimetype": "text/x-python",
      "name": "python",
      "nbconvert_exporter": "python",
      "pygments_lexer": "ipython3",
      "version": "3.6.8"
    }
  },
  "nbformat": 4,
  "nbformat_minor": 0
}