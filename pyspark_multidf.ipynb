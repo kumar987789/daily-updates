{
  "nbformat": 4,
  "nbformat_minor": 0,
  "metadata": {
    "colab": {
      "provenance": [],
      "include_colab_link": true
    },
    "kernelspec": {
      "name": "python3",
      "display_name": "Python 3"
    },
    "language_info": {
      "name": "python"
    }
  },
  "cells": [
    {
      "cell_type": "markdown",
      "metadata": {
        "id": "view-in-github",
        "colab_type": "text"
      },
      "source": [
        "<a href=\"https://colab.research.google.com/github/kumar987789/daily-updates/blob/main/pyspark_multidf.ipynb\" target=\"_parent\"><img src=\"https://colab.research.google.com/assets/colab-badge.svg\" alt=\"Open In Colab\"/></a>"
      ]
    },
    {
      "cell_type": "markdown",
      "source": [
        "#PySpark Practice Notebook\n",
        "Experimenting further with Spark Dataframes"
      ],
      "metadata": {
        "id": "vyfMDH344XZy"
      }
    },
    {
      "cell_type": "code",
      "execution_count": null,
      "metadata": {
        "id": "oEO4Bljq4SDh"
      },
      "outputs": [],
      "source": [
        "#Create CSV files for the following Datasets\n",
        "\n",
        "patients\n",
        "patientId,firstName,lastName,age\n",
        "101,Alice,Smith,30\n",
        "102,Bob,Johnson,45\n",
        "103,Charlie,Williams,50\n",
        "104,John,Smith,78\n",
        "\n",
        "visits\n",
        "visitId,patientId,visitDuration\n",
        "1,101,15\n",
        "2,101,30\n",
        "3,102,45\n",
        "4,102,30\n",
        "5,104,20\n",
        "6,103,60\n",
        "7,103,50\n",
        "8,104,45\n",
        "9,,45\n",
        "10,101,30\n",
        "11,103,40\n",
        "12,,30\n",
        "13,104,25\n",
        "15,102,15"
      ]
    },
    {
      "cell_type": "code",
      "source": [
        "%%writefile patients.csv\n",
        "patientId,firstName,lastName,age\n",
        "101,Alice,Smith,30\n",
        "102,Bob,Johnson,45\n",
        "103,Charlie,Williams,50\n",
        "104,John,Smith,78\n"
      ],
      "metadata": {
        "id": "FizZogAg3IqY",
        "outputId": "d0794903-646e-42c1-fbd4-ad425d5a2342",
        "colab": {
          "base_uri": "https://localhost:8080/"
        }
      },
      "execution_count": 1,
      "outputs": [
        {
          "output_type": "stream",
          "name": "stdout",
          "text": [
            "Writing patients.csv\n"
          ]
        }
      ]
    },
    {
      "cell_type": "code",
      "source": [
        "%%writefile visits.csv\n",
        "visitId,patientId,visitDuration\n",
        "1,101,15\n",
        "2,101,30\n",
        "3,102,45\n",
        "4,102,30\n",
        "5,104,20\n",
        "6,103,60\n",
        "7,103,50\n",
        "8,104,45\n",
        "9,,45\n",
        "10,101,30\n",
        "11,103,40\n",
        "12,,30\n",
        "13,104,25\n",
        "15,102,15\n"
      ],
      "metadata": {
        "id": "UXZF_6KG3WC3",
        "outputId": "0104bcc8-71a2-4628-b3bb-04a3e2ad8cde",
        "colab": {
          "base_uri": "https://localhost:8080/"
        }
      },
      "execution_count": 2,
      "outputs": [
        {
          "output_type": "stream",
          "name": "stdout",
          "text": [
            "Writing visits.csv\n"
          ]
        }
      ]
    },
    {
      "cell_type": "code",
      "source": [
        "pip install pyspark"
      ],
      "metadata": {
        "id": "fzsD5tCf380J",
        "outputId": "8ef507db-7efa-4cfa-88a4-60951afea4e8",
        "colab": {
          "base_uri": "https://localhost:8080/"
        }
      },
      "execution_count": 5,
      "outputs": [
        {
          "output_type": "stream",
          "name": "stdout",
          "text": [
            "Collecting pyspark\n",
            "  Downloading pyspark-3.5.1.tar.gz (317.0 MB)\n",
            "\u001b[2K     \u001b[90m━━━━━━━━━━━━━━━━━━━━━━━━━━━━━━━━━━━━━━━━\u001b[0m \u001b[32m317.0/317.0 MB\u001b[0m \u001b[31m3.2 MB/s\u001b[0m eta \u001b[36m0:00:00\u001b[0m\n",
            "\u001b[?25h  Preparing metadata (setup.py) ... \u001b[?25l\u001b[?25hdone\n",
            "Requirement already satisfied: py4j==0.10.9.7 in /usr/local/lib/python3.10/dist-packages (from pyspark) (0.10.9.7)\n",
            "Building wheels for collected packages: pyspark\n",
            "  Building wheel for pyspark (setup.py) ... \u001b[?25l\u001b[?25hdone\n",
            "  Created wheel for pyspark: filename=pyspark-3.5.1-py2.py3-none-any.whl size=317488490 sha256=c26a04e8571987e89778dcd7324295e2071843fe600672bace0ff5d9dc2cda6c\n",
            "  Stored in directory: /root/.cache/pip/wheels/80/1d/60/2c256ed38dddce2fdd93be545214a63e02fbd8d74fb0b7f3a6\n",
            "Successfully built pyspark\n",
            "Installing collected packages: pyspark\n",
            "Successfully installed pyspark-3.5.1\n"
          ]
        }
      ]
    },
    {
      "cell_type": "code",
      "source": [
        "#Import necessary spark libraries\n",
        "from pyspark.sql import SparkSession\n",
        "from pyspark.sql.functions import *\n",
        "\n",
        "\n"
      ],
      "metadata": {
        "id": "G2y2JZQY4XAi"
      },
      "execution_count": 8,
      "outputs": []
    },
    {
      "cell_type": "code",
      "source": [
        "#Create a SparkSession\n",
        "spark=SparkSession.builder.appName('nani').getOrCreate()\n"
      ],
      "metadata": {
        "id": "8Om-g7u26QQw"
      },
      "execution_count": 9,
      "outputs": []
    },
    {
      "cell_type": "code",
      "source": [
        "#Create dataframes from CSV files using enforced Schema\n",
        "#Schems Directive [Names as string, everything else as integers]\n",
        "\n",
        "df=spark.read.option('header','True').csv('patients.csv')\n",
        "df1=spark.read.option('header','True').csv('visits.csv')\n"
      ],
      "metadata": {
        "id": "VKkwIx3I6QOJ"
      },
      "execution_count": 17,
      "outputs": []
    },
    {
      "cell_type": "code",
      "source": [
        "#Display all the valid visits\n",
        "df1.show()\n",
        "\n",
        "\n",
        "#Fetch the total number of valid visits\n",
        "df1.count()\n",
        "\n"
      ],
      "metadata": {
        "id": "B5Jx7nYN6QTo",
        "outputId": "0a186378-baac-4fc3-add1-fd1bb46ebf00",
        "colab": {
          "base_uri": "https://localhost:8080/"
        }
      },
      "execution_count": 53,
      "outputs": [
        {
          "output_type": "stream",
          "name": "stdout",
          "text": [
            "+-------+---------+-------------+\n",
            "|visitId|patientId|visitDuration|\n",
            "+-------+---------+-------------+\n",
            "|      1|      101|           15|\n",
            "|      2|      101|           30|\n",
            "|      3|      102|           45|\n",
            "|      4|      102|           30|\n",
            "|      5|      104|           20|\n",
            "|      6|      103|           60|\n",
            "|      7|      103|           50|\n",
            "|      8|      104|           45|\n",
            "|      9|     NULL|           45|\n",
            "|     10|      101|           30|\n",
            "|     11|      103|           40|\n",
            "|     12|     NULL|           30|\n",
            "|     13|      104|           25|\n",
            "|     15|      102|           15|\n",
            "+-------+---------+-------------+\n",
            "\n"
          ]
        },
        {
          "output_type": "execute_result",
          "data": {
            "text/plain": [
              "14"
            ]
          },
          "metadata": {},
          "execution_count": 53
        }
      ]
    },
    {
      "cell_type": "code",
      "source": [
        "#Get the total hours of patient visit\n",
        "\n",
        "df.agg({'visitDuration':'sum'}).withColumnRenamed('sum(visitDuration)','total_hours').show()\n",
        "\n",
        "\n",
        "\n"
      ],
      "metadata": {
        "id": "kI7EdZZR6QV0",
        "outputId": "49fa9537-3982-4ef7-befe-8abc930d4776",
        "colab": {
          "base_uri": "https://localhost:8080/"
        }
      },
      "execution_count": 16,
      "outputs": [
        {
          "output_type": "stream",
          "name": "stdout",
          "text": [
            "+-----------+\n",
            "|total_hours|\n",
            "+-----------+\n",
            "|      480.0|\n",
            "+-----------+\n",
            "\n"
          ]
        }
      ]
    },
    {
      "cell_type": "code",
      "source": [
        "#Fetch the top two most visited patients on the basis of occurances\n",
        "x=df.join(df1,'patientId')\n",
        "x.groupBy('patientId').count().orderBy('count',ascending=False).show(2)\n",
        "\n"
      ],
      "metadata": {
        "id": "dLrXfV1f6QYT",
        "outputId": "d071c986-2394-4b59-d641-0ad05ff3d36c",
        "colab": {
          "base_uri": "https://localhost:8080/"
        }
      },
      "execution_count": 25,
      "outputs": [
        {
          "output_type": "stream",
          "name": "stdout",
          "text": [
            "+---------+-----+\n",
            "|patientId|count|\n",
            "+---------+-----+\n",
            "|      101|    3|\n",
            "|      104|    3|\n",
            "+---------+-----+\n",
            "only showing top 2 rows\n",
            "\n"
          ]
        }
      ]
    },
    {
      "cell_type": "code",
      "source": [
        "#Add a new column patientFullName & display complete dataframe\n",
        "df.withColumn('patientFullName',concat(col('firstName'),lit(' '),col('lastName'))).show()\n",
        "df.show()"
      ],
      "metadata": {
        "id": "T4M1XTw56Qat",
        "outputId": "c34df23d-331e-49fb-da17-340915492655",
        "colab": {
          "base_uri": "https://localhost:8080/"
        }
      },
      "execution_count": 28,
      "outputs": [
        {
          "output_type": "stream",
          "name": "stdout",
          "text": [
            "+---------+---------+--------+---+----------------+\n",
            "|patientId|firstName|lastName|age| patientFullName|\n",
            "+---------+---------+--------+---+----------------+\n",
            "|      101|    Alice|   Smith| 30|     Alice Smith|\n",
            "|      102|      Bob| Johnson| 45|     Bob Johnson|\n",
            "|      103|  Charlie|Williams| 50|Charlie Williams|\n",
            "|      104|     John|   Smith| 78|      John Smith|\n",
            "+---------+---------+--------+---+----------------+\n",
            "\n",
            "+---------+---------+--------+---+\n",
            "|patientId|firstName|lastName|age|\n",
            "+---------+---------+--------+---+\n",
            "|      101|    Alice|   Smith| 30|\n",
            "|      102|      Bob| Johnson| 45|\n",
            "|      103|  Charlie|Williams| 50|\n",
            "|      104|     John|   Smith| 78|\n",
            "+---------+---------+--------+---+\n",
            "\n"
          ]
        }
      ]
    },
    {
      "cell_type": "code",
      "source": [
        "#Display the name of patients with maximum visiting hours\n",
        "x=df.join(df1,'patientId')\n",
        "x.groupBy('patientId').agg({'visitDuration':'sum'}).orderBy('sum(visitDuration)',ascending=False).show(1)\n"
      ],
      "metadata": {
        "id": "Ecq6DnjA6QdB",
        "outputId": "e9ed4c07-c6ea-4311-ba24-93be3bd45eb2",
        "colab": {
          "base_uri": "https://localhost:8080/"
        }
      },
      "execution_count": 41,
      "outputs": [
        {
          "output_type": "stream",
          "name": "stdout",
          "text": [
            "+---------+------------------+\n",
            "|patientId|sum(visitDuration)|\n",
            "+---------+------------------+\n",
            "|      103|             150.0|\n",
            "+---------+------------------+\n",
            "only showing top 1 row\n",
            "\n"
          ]
        }
      ]
    },
    {
      "cell_type": "code",
      "source": [],
      "metadata": {
        "id": "sWLgWJGZ_nmQ"
      },
      "execution_count": null,
      "outputs": []
    },
    {
      "cell_type": "code",
      "source": [
        "#Find the patient with maximum visiting hours in a single visit\n",
        "\n",
        "x=df.join(df1,'patientId')\n",
        "x.orderBy('visitDuration',ascending=False).show(1)\n",
        "\n",
        "\n"
      ],
      "metadata": {
        "id": "TSqXIP_i6QfX",
        "outputId": "1d767cbf-c7b4-46d0-97c6-d99ecae646a9",
        "colab": {
          "base_uri": "https://localhost:8080/"
        }
      },
      "execution_count": 49,
      "outputs": [
        {
          "output_type": "stream",
          "name": "stdout",
          "text": [
            "+---------+---------+--------+---+-------+-------------+\n",
            "|patientId|firstName|lastName|age|visitId|visitDuration|\n",
            "+---------+---------+--------+---+-------+-------------+\n",
            "|      103|  Charlie|Williams| 50|      6|           60|\n",
            "+---------+---------+--------+---+-------+-------------+\n",
            "only showing top 1 row\n",
            "\n"
          ]
        }
      ]
    },
    {
      "cell_type": "code",
      "source": [
        "#Show the patient info according to age-seniority\n",
        "#df.orderBy('age',ascending=False).show()\n",
        "df.sort('age',ascending=False).show()"
      ],
      "metadata": {
        "id": "Arpnz5O36Qhu",
        "outputId": "2c068811-1952-4fa2-ce82-0ae9eae84f08",
        "colab": {
          "base_uri": "https://localhost:8080/"
        }
      },
      "execution_count": 51,
      "outputs": [
        {
          "output_type": "stream",
          "name": "stdout",
          "text": [
            "+---------+---------+--------+---+\n",
            "|patientId|firstName|lastName|age|\n",
            "+---------+---------+--------+---+\n",
            "|      104|     John|   Smith| 78|\n",
            "|      103|  Charlie|Williams| 50|\n",
            "|      102|      Bob| Johnson| 45|\n",
            "|      101|    Alice|   Smith| 30|\n",
            "+---------+---------+--------+---+\n",
            "\n"
          ]
        }
      ]
    }
  ]
}