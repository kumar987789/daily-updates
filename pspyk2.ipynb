{
  "nbformat": 4,
  "nbformat_minor": 0,
  "metadata": {
    "colab": {
      "provenance": []
    },
    "kernelspec": {
      "name": "python3",
      "display_name": "Python 3"
    },
    "language_info": {
      "name": "python"
    }
  },
  "cells": [
    {
      "cell_type": "markdown",
      "source": [
        "#SparkSQL\n",
        "\n",
        "Working with PySpark's built-in SQL compliant functionality to investigate flights-delay data at scale\n",
        "\n",
        "\n",
        "*   Understand the limitations of SparkSQL\n",
        "*   Experiment with createOrReplaceGlobalView\n",
        "*   Work on same executions through pyspark methods\n",
        "\n"
      ],
      "metadata": {
        "id": "u9qknWb9bfXd"
      }
    },
    {
      "cell_type": "code",
      "execution_count": null,
      "metadata": {
        "id": "XLzhcLK6bVbq"
      },
      "outputs": [],
      "source": [
        "#Download Data from source\n",
        "Data Source Repo - https://kloudbitbucket.s3.amazonaws.com/krunal_ds/departuredelays.csv"
      ]
    },
    {
      "cell_type": "code",
      "source": [
        "#Import necessary spark components\n"
      ],
      "metadata": {
        "id": "3UdCaWepbetc"
      },
      "execution_count": null,
      "outputs": []
    },
    {
      "cell_type": "code",
      "source": [
        "#Create a SparkSession\n"
      ],
      "metadata": {
        "id": "6FP1wdXTbewW"
      },
      "execution_count": null,
      "outputs": []
    },
    {
      "cell_type": "code",
      "source": [
        "#Import Data into Spark Native Dataframe\n"
      ],
      "metadata": {
        "id": "gXObRS7gbezU"
      },
      "execution_count": null,
      "outputs": []
    },
    {
      "cell_type": "code",
      "source": [
        "#Convert into an SQL complaint format\n"
      ],
      "metadata": {
        "id": "DqYqJHizbe3y"
      },
      "execution_count": null,
      "outputs": []
    },
    {
      "cell_type": "code",
      "source": [
        "#Display 100 rows of data with SQL query\n"
      ],
      "metadata": {
        "id": "MWu1GiPwbe6n"
      },
      "execution_count": null,
      "outputs": []
    },
    {
      "cell_type": "code",
      "source": [
        "#Get a list of all Origin and Destination airports\n"
      ],
      "metadata": {
        "id": "eWGh0GpWcRsX"
      },
      "execution_count": null,
      "outputs": []
    },
    {
      "cell_type": "code",
      "source": [
        "#Find the top 5 longest distance travel routes\n"
      ],
      "metadata": {
        "id": "QKnQPgqicRvS"
      },
      "execution_count": null,
      "outputs": []
    },
    {
      "cell_type": "code",
      "source": [
        "#Find top 3 origin airport with maximum flight delay occurances\n"
      ],
      "metadata": {
        "id": "-UNJNctPcRx2"
      },
      "execution_count": null,
      "outputs": []
    },
    {
      "cell_type": "code",
      "source": [
        "#Find top 3 destination airport with maximum flight delay occurances\n"
      ],
      "metadata": {
        "id": "0YeWikvEcR0h"
      },
      "execution_count": null,
      "outputs": []
    },
    {
      "cell_type": "code",
      "source": [
        "#Find the route with maximum delay occurances\n"
      ],
      "metadata": {
        "id": "dUJBKTwLcR34"
      },
      "execution_count": null,
      "outputs": []
    },
    {
      "cell_type": "code",
      "source": [
        "#Find the top three routes with maximum time-delay\n"
      ],
      "metadata": {
        "id": "0OX5pSTqcR5s"
      },
      "execution_count": null,
      "outputs": []
    },
    {
      "cell_type": "code",
      "source": [
        "#Find the distance for top three max time-delay routes\n"
      ],
      "metadata": {
        "id": "oHf6MWCxcSAy"
      },
      "execution_count": null,
      "outputs": []
    }
  ]
}