{
  "nbformat": 4,
  "nbformat_minor": 0,
  "metadata": {
    "colab": {
      "provenance": []
    },
    "kernelspec": {
      "name": "python3",
      "display_name": "Python 3"
    },
    "language_info": {
      "name": "python"
    }
  },
  "cells": [
    {
      "cell_type": "code",
      "execution_count": 1,
      "metadata": {
        "id": "UoH8kZvLICAR",
        "outputId": "88d8b4ea-79bc-48fa-f9e6-8192c6cf0dcf",
        "colab": {
          "base_uri": "https://localhost:8080/"
        }
      },
      "outputs": [
        {
          "output_type": "stream",
          "name": "stdout",
          "text": [
            "Writing series.csv\n"
          ]
        }
      ],
      "source": [
        "#user_data\n",
        "%%writefile series.csv\n",
        "user_id,series,season,timestamp,genre,duration_mins\n",
        "521,”Mirzapur”,3,2024-07-30 15:00:00,action,300\n",
        "672,”Panchayat”,3,2024-07-30 15:00:00,comedy,200\n",
        "197,”Family Man”,2,2024-07-30 15:00:00,action,500\n",
        "521,”Mirzapur”,2,2024-07-29 15:00:00,action,280\n",
        "211,”Queens Gambit”,1,2024-07-30 15:00:00,drama,170\n",
        "521,”Mirzapur”,1,2024-07-28 15:00:00,action,230\n",
        "844,”Westworld”,3,2024-07-30 15:00:00,sci-fi,310\n",
        "672,”Panchayat”,3,2024-07-29 15:00:00,comedy,210\n",
        "256,”Homecoming”,2,2024-07-30 15:00:00,thriller,310\n",
        "489,”Outer Range”,1,2024-07-30 15:00:00,sci-fi,340\n",
        "200,”Black Mirror”,2,2024-07-30 15:00:00,sci-fi,140\n",
        "256,”Outer Range”,2,2024-07-30 15:00:00,thriller,250\n",
        "489,”Outer Range”,2,2024-07-28 15:00:00,sci-fi,170\n",
        "200,”Black Mirror”,3,2024-07-29 15:00:00,sci-fi,190\n",
        "672,”Panchayat”,2,2024-07-28 15:00:00,comedy,160\n",
        "672,”Outer Range”,1,2024-07-25 15:00:00,sci-fi,250\n",
        "200,”Black Mirror”,4,2024-07-28 15:00:00,sci-fi,200\n",
        "844,”Westworld”,2,2024-07-29 15:00:00,sci-fi,300\n",
        "672,”Black Mirror”,5,2024-07-28 15:00:00,sci-fi,150\n",
        "672,”Panchayat”,1,2024-07-27 15:00:00,comedy,190"
      ]
    },
    {
      "cell_type": "code",
      "source": [
        "!pip install pyspark"
      ],
      "metadata": {
        "id": "W0tkHSMT5-Vw",
        "outputId": "7ff86eb5-007b-4f3e-b0cf-ebc86389de62",
        "colab": {
          "base_uri": "https://localhost:8080/"
        }
      },
      "execution_count": 2,
      "outputs": [
        {
          "output_type": "stream",
          "name": "stdout",
          "text": [
            "Collecting pyspark\n",
            "  Downloading pyspark-3.5.1.tar.gz (317.0 MB)\n",
            "\u001b[2K     \u001b[90m━━━━━━━━━━━━━━━━━━━━━━━━━━━━━━━━━━━━━━━━\u001b[0m \u001b[32m317.0/317.0 MB\u001b[0m \u001b[31m4.8 MB/s\u001b[0m eta \u001b[36m0:00:00\u001b[0m\n",
            "\u001b[?25h  Preparing metadata (setup.py) ... \u001b[?25l\u001b[?25hdone\n",
            "Requirement already satisfied: py4j==0.10.9.7 in /usr/local/lib/python3.10/dist-packages (from pyspark) (0.10.9.7)\n",
            "Building wheels for collected packages: pyspark\n",
            "  Building wheel for pyspark (setup.py) ... \u001b[?25l\u001b[?25hdone\n",
            "  Created wheel for pyspark: filename=pyspark-3.5.1-py2.py3-none-any.whl size=317488490 sha256=faabc7f4197ca7641e379ea481ac4ad6a474ec6dc282cf427c13ed263fc76f32\n",
            "  Stored in directory: /root/.cache/pip/wheels/80/1d/60/2c256ed38dddce2fdd93be545214a63e02fbd8d74fb0b7f3a6\n",
            "Successfully built pyspark\n",
            "Installing collected packages: pyspark\n",
            "Successfully installed pyspark-3.5.1\n"
          ]
        }
      ]
    },
    {
      "cell_type": "code",
      "source": [
        "#Import Libraries\n",
        "from pyspark.sql import SparkSession"
      ],
      "metadata": {
        "id": "GLxzpwaSIJRA"
      },
      "execution_count": 3,
      "outputs": []
    },
    {
      "cell_type": "code",
      "source": [
        "#Create SparkSession for app (Streaming Analysis)\n",
        "lti_spark=SparkSession.builder.appName('akshitha').getOrCreate()"
      ],
      "metadata": {
        "id": "YChMWo_nIJTq"
      },
      "execution_count": 4,
      "outputs": []
    },
    {
      "cell_type": "code",
      "source": [
        "#Create Dataframe series_df\n",
        "series_df=lti_spark.read.option('Header','True').csv('series.csv')"
      ],
      "metadata": {
        "id": "gljhEO_IIJXB"
      },
      "execution_count": 5,
      "outputs": []
    },
    {
      "cell_type": "code",
      "source": [
        "series_df.show()"
      ],
      "metadata": {
        "id": "Fg32Nc-P6qOu",
        "outputId": "65294228-361a-4bfe-d2f0-b2cbc45fc47c",
        "colab": {
          "base_uri": "https://localhost:8080/"
        }
      },
      "execution_count": 6,
      "outputs": [
        {
          "output_type": "stream",
          "name": "stdout",
          "text": [
            "+-------+---------------+------+-------------------+--------+-------------+\n",
            "|user_id|         series|season|          timestamp|   genre|duration_mins|\n",
            "+-------+---------------+------+-------------------+--------+-------------+\n",
            "|    521|     ”Mirzapur”|     3|2024-07-30 15:00:00|  action|          300|\n",
            "|    672|    ”Panchayat”|     3|2024-07-30 15:00:00|  comedy|          200|\n",
            "|    197|   ”Family Man”|     2|2024-07-30 15:00:00|  action|          500|\n",
            "|    521|     ”Mirzapur”|     2|2024-07-29 15:00:00|  action|          280|\n",
            "|    211|”Queens Gambit”|     1|2024-07-30 15:00:00|   drama|          170|\n",
            "|    521|     ”Mirzapur”|     1|2024-07-28 15:00:00|  action|          230|\n",
            "|    844|    ”Westworld”|     3|2024-07-30 15:00:00|  sci-fi|          310|\n",
            "|    672|    ”Panchayat”|     3|2024-07-29 15:00:00|  comedy|          210|\n",
            "|    256|   ”Homecoming”|     2|2024-07-30 15:00:00|thriller|          310|\n",
            "|    489|  ”Outer Range”|     1|2024-07-30 15:00:00|  sci-fi|          340|\n",
            "|    200| ”Black Mirror”|     2|2024-07-30 15:00:00|  sci-fi|          140|\n",
            "|    256|  ”Outer Range”|     2|2024-07-30 15:00:00|thriller|          250|\n",
            "|    489|  ”Outer Range”|     2|2024-07-28 15:00:00|  sci-fi|          170|\n",
            "|    200| ”Black Mirror”|     3|2024-07-29 15:00:00|  sci-fi|          190|\n",
            "|    672|    ”Panchayat”|     2|2024-07-28 15:00:00|  comedy|          160|\n",
            "|    672|  ”Outer Range”|     1|2024-07-25 15:00:00|  sci-fi|          250|\n",
            "|    200| ”Black Mirror”|     4|2024-07-28 15:00:00|  sci-fi|          200|\n",
            "|    844|    ”Westworld”|     2|2024-07-29 15:00:00|  sci-fi|          300|\n",
            "|    672| ”Black Mirror”|     5|2024-07-28 15:00:00|  sci-fi|          150|\n",
            "|    672|    ”Panchayat”|     1|2024-07-27 15:00:00|  comedy|          190|\n",
            "+-------+---------------+------+-------------------+--------+-------------+\n",
            "\n"
          ]
        }
      ]
    },
    {
      "cell_type": "code",
      "source": [
        "#Find the user with maximum watchtime\n",
        "series_df.groupBy('user_id').agg({'duration_mins':'sum'}).orderBy('sum(duration_mins)',ascending=False).limit(1).collect()[0][0]"
      ],
      "metadata": {
        "id": "ddoznJiZIJZI",
        "outputId": "88e7373d-f682-4fa3-e57f-2d6c092076f5",
        "colab": {
          "base_uri": "https://localhost:8080/",
          "height": 35
        }
      },
      "execution_count": 14,
      "outputs": [
        {
          "output_type": "execute_result",
          "data": {
            "text/plain": [
              "'672'"
            ],
            "application/vnd.google.colaboratory.intrinsic+json": {
              "type": "string"
            }
          },
          "metadata": {},
          "execution_count": 14
        }
      ]
    },
    {
      "cell_type": "code",
      "source": [
        "#Calculate overall total Watchtime\n",
        "series_df.agg({'duration_mins':'sum'}).collect()[0][0]"
      ],
      "metadata": {
        "id": "KCpeY-cyynpN",
        "outputId": "b4a2ee5f-ecc5-4938-9e4d-60728120b123",
        "colab": {
          "base_uri": "https://localhost:8080/"
        }
      },
      "execution_count": 10,
      "outputs": [
        {
          "output_type": "execute_result",
          "data": {
            "text/plain": [
              "4850.0"
            ]
          },
          "metadata": {},
          "execution_count": 10
        }
      ]
    },
    {
      "cell_type": "code",
      "source": [
        "#Find most popular shows (based on watchtime)\n",
        "df=series_df.groupBy('series').agg({'duration_mins':'sum'}).orderBy('sum(duration_mins)',ascending=False).limit(3)\n",
        "df.rdd.flatMap(lambda x:[x[0]]).collect()"
      ],
      "metadata": {
        "id": "SMnElt2ZIJbJ",
        "outputId": "087f52d5-4074-4890-8853-83747a1ae74c",
        "colab": {
          "base_uri": "https://localhost:8080/"
        }
      },
      "execution_count": 17,
      "outputs": [
        {
          "output_type": "execute_result",
          "data": {
            "text/plain": [
              "['”Outer Range”', '”Mirzapur”', '”Panchayat”']"
            ]
          },
          "metadata": {},
          "execution_count": 17
        }
      ]
    },
    {
      "cell_type": "code",
      "source": [
        "#Find most popular shows (based on user popularity)\n",
        "df=series_df.groupBy('series').agg({'user_id':'count'}).orderBy('count(user_id)',ascending=False).limit(3)\n",
        "df.rdd.flatMap(lambda x:[x[0]]).collect()"
      ],
      "metadata": {
        "id": "-W2oNioNIJem",
        "outputId": "b380016f-f445-4a13-d2d2-f3bc64ac1dfd",
        "colab": {
          "base_uri": "https://localhost:8080/"
        }
      },
      "execution_count": 21,
      "outputs": [
        {
          "output_type": "execute_result",
          "data": {
            "text/plain": [
              "['”Outer Range”', '”Panchayat”', '”Black Mirror”']"
            ]
          },
          "metadata": {},
          "execution_count": 21
        }
      ]
    },
    {
      "cell_type": "code",
      "source": [
        "#Find the most popular genre\n",
        "series_df.groupBy('genre').agg({'user_id':'count'}).orderBy('count(user_id)',ascending=False).limit(1).collect()[0][0]"
      ],
      "metadata": {
        "id": "Z-RpLlNFIJgk",
        "outputId": "2c4ce0be-4023-4f01-ccaf-5057c514670f",
        "colab": {
          "base_uri": "https://localhost:8080/",
          "height": 35
        }
      },
      "execution_count": 35,
      "outputs": [
        {
          "output_type": "execute_result",
          "data": {
            "text/plain": [
              "'sci-fi'"
            ],
            "application/vnd.google.colaboratory.intrinsic+json": {
              "type": "string"
            }
          },
          "metadata": {},
          "execution_count": 35
        }
      ]
    },
    {
      "cell_type": "code",
      "source": [
        "#Calculate total watchtime per user\n",
        "series_df.groupBy('user_id').agg({'duration_mins':'sum'}).orderBy('sum(duration_mins)').withColumnRenamed('sum(duration_mins)','watchtime').show()"
      ],
      "metadata": {
        "id": "vm_-_AUWIJis",
        "outputId": "cae2f1c6-f21f-4575-e7d1-634d33424229",
        "colab": {
          "base_uri": "https://localhost:8080/"
        }
      },
      "execution_count": 28,
      "outputs": [
        {
          "output_type": "stream",
          "name": "stdout",
          "text": [
            "+-------+---------+\n",
            "|user_id|watchtime|\n",
            "+-------+---------+\n",
            "|    211|    170.0|\n",
            "|    197|    500.0|\n",
            "|    489|    510.0|\n",
            "|    200|    530.0|\n",
            "|    256|    560.0|\n",
            "|    844|    610.0|\n",
            "|    521|    810.0|\n",
            "|    672|   1160.0|\n",
            "+-------+---------+\n",
            "\n"
          ]
        }
      ]
    },
    {
      "cell_type": "code",
      "source": [
        "#Find most popular genre (based on engagement count)\n",
        "series_df.groupBy('genre').agg({'duration_mins':'sum'}).orderBy('sum(duration_mins)',ascending=False).limit(1).collect()[0][0]"
      ],
      "metadata": {
        "id": "l-DuDyiOIJlG",
        "outputId": "6e6bdafb-0955-4079-da1d-9549cb72a7f2",
        "colab": {
          "base_uri": "https://localhost:8080/",
          "height": 35
        }
      },
      "execution_count": 38,
      "outputs": [
        {
          "output_type": "execute_result",
          "data": {
            "text/plain": [
              "'sci-fi'"
            ],
            "application/vnd.google.colaboratory.intrinsic+json": {
              "type": "string"
            }
          },
          "metadata": {},
          "execution_count": 38
        }
      ]
    },
    {
      "cell_type": "code",
      "source": [
        "#Find average watchtime per genre\n",
        "import pyspark.sql.functions as f\n",
        "df=series_df.groupBy('genre').agg({'duration_mins':'avg'}).orderBy('avg(duration_mins)')\n",
        "df.withColumn('avg(duration_mins)',f.round('avg(duration_mins)',1)).show()"
      ],
      "metadata": {
        "id": "yFFZh-NFIJnQ",
        "outputId": "27ced690-9789-4432-a082-199473b8f8a7",
        "colab": {
          "base_uri": "https://localhost:8080/"
        }
      },
      "execution_count": 55,
      "outputs": [
        {
          "output_type": "stream",
          "name": "stdout",
          "text": [
            "+--------+------------------+\n",
            "|   genre|avg(duration_mins)|\n",
            "+--------+------------------+\n",
            "|   drama|             170.0|\n",
            "|  comedy|             190.0|\n",
            "|  sci-fi|             227.8|\n",
            "|thriller|             280.0|\n",
            "|  action|             327.5|\n",
            "+--------+------------------+\n",
            "\n"
          ]
        }
      ]
    },
    {
      "cell_type": "code",
      "source": [
        "#Find peak traffic days\n",
        "#(Output 1 = Full Date)\n",
        "df=series_df.groupBy('timestamp').agg({'user_id':'count'}).orderBy('count(user_id)',ascending=False).limit(1)\n",
        "\n",
        "#(Output 2 = Only Day)\n",
        "df.withColumn('timestamp',f.dayofmonth('timestamp')).collect()[0][0]"
      ],
      "metadata": {
        "id": "HzXnysiXIJpq",
        "outputId": "cbb38ee1-08e4-46fd-950b-2def720219c1",
        "colab": {
          "base_uri": "https://localhost:8080/"
        }
      },
      "execution_count": 73,
      "outputs": [
        {
          "output_type": "execute_result",
          "data": {
            "text/plain": [
              "30"
            ]
          },
          "metadata": {},
          "execution_count": 73
        }
      ]
    },
    {
      "cell_type": "code",
      "source": [
        "#Find the user with most diverse show preference\n",
        "series_df.groupBy('user_id').agg({'series':'count'}).orderBy('count(series)',ascending=False).limit(1).collect()[0][0]"
      ],
      "metadata": {
        "id": "yY7SlM8yIJsz",
        "outputId": "b81faae5-5ce8-4e0d-a678-a3873b3601b8",
        "colab": {
          "base_uri": "https://localhost:8080/",
          "height": 35
        }
      },
      "execution_count": 76,
      "outputs": [
        {
          "output_type": "execute_result",
          "data": {
            "text/plain": [
              "'672'"
            ],
            "application/vnd.google.colaboratory.intrinsic+json": {
              "type": "string"
            }
          },
          "metadata": {},
          "execution_count": 76
        }
      ]
    },
    {
      "cell_type": "code",
      "source": [
        "#Find the binge-watchers\n",
        "df1=series_df.groupBy('user_id','timestamp','series').agg({'season':'count'}).withColumnRenamed('count(season)','count').orderBy('user_id')\n",
        "df2=series_df.groupBy('series').agg({'season':'max'}).withColumnRenamed('max(season)','max')\n",
        "df1.show()\n",
        "df2.show()\n",
        "df3=df1.join(df2,'series','inner')\n",
        "df3.show()\n",
        "df3.filter(f.col('count')==f.col('max')).collect()[0][1]"
      ],
      "metadata": {
        "id": "9UMeWCk-IJvK",
        "outputId": "a5752637-54a5-4470-82c2-87d71ab7a6ea",
        "colab": {
          "base_uri": "https://localhost:8080/",
          "height": 1000
        }
      },
      "execution_count": 109,
      "outputs": [
        {
          "output_type": "stream",
          "name": "stdout",
          "text": [
            "+-------+-------------------+---------------+-----+\n",
            "|user_id|          timestamp|         series|count|\n",
            "+-------+-------------------+---------------+-----+\n",
            "|    197|2024-07-30 15:00:00|   ”Family Man”|    1|\n",
            "|    200|2024-07-29 15:00:00| ”Black Mirror”|    1|\n",
            "|    200|2024-07-28 15:00:00| ”Black Mirror”|    1|\n",
            "|    200|2024-07-30 15:00:00| ”Black Mirror”|    1|\n",
            "|    211|2024-07-30 15:00:00|”Queens Gambit”|    1|\n",
            "|    256|2024-07-30 15:00:00|   ”Homecoming”|    1|\n",
            "|    256|2024-07-30 15:00:00|  ”Outer Range”|    1|\n",
            "|    489|2024-07-28 15:00:00|  ”Outer Range”|    1|\n",
            "|    489|2024-07-30 15:00:00|  ”Outer Range”|    1|\n",
            "|    521|2024-07-30 15:00:00|     ”Mirzapur”|    1|\n",
            "|    521|2024-07-28 15:00:00|     ”Mirzapur”|    1|\n",
            "|    521|2024-07-29 15:00:00|     ”Mirzapur”|    1|\n",
            "|    672|2024-07-28 15:00:00| ”Black Mirror”|    1|\n",
            "|    672|2024-07-25 15:00:00|  ”Outer Range”|    1|\n",
            "|    672|2024-07-27 15:00:00|    ”Panchayat”|    1|\n",
            "|    672|2024-07-29 15:00:00|    ”Panchayat”|    1|\n",
            "|    672|2024-07-30 15:00:00|    ”Panchayat”|    1|\n",
            "|    672|2024-07-28 15:00:00|    ”Panchayat”|    1|\n",
            "|    844|2024-07-30 15:00:00|    ”Westworld”|    1|\n",
            "|    844|2024-07-29 15:00:00|    ”Westworld”|    1|\n",
            "+-------+-------------------+---------------+-----+\n",
            "\n",
            "+---------------+---+\n",
            "|         series|max|\n",
            "+---------------+---+\n",
            "| ”Black Mirror”|  5|\n",
            "|   ”Family Man”|  2|\n",
            "|   ”Homecoming”|  2|\n",
            "|     ”Mirzapur”|  3|\n",
            "|  ”Outer Range”|  2|\n",
            "|    ”Panchayat”|  3|\n",
            "|”Queens Gambit”|  1|\n",
            "|    ”Westworld”|  3|\n",
            "+---------------+---+\n",
            "\n",
            "+---------------+-------+-------------------+-----+---+\n",
            "|         series|user_id|          timestamp|count|max|\n",
            "+---------------+-------+-------------------+-----+---+\n",
            "|     ”Mirzapur”|    521|2024-07-30 15:00:00|    1|  3|\n",
            "|    ”Westworld”|    844|2024-07-30 15:00:00|    1|  3|\n",
            "| ”Black Mirror”|    672|2024-07-28 15:00:00|    1|  5|\n",
            "|   ”Homecoming”|    256|2024-07-30 15:00:00|    1|  2|\n",
            "| ”Black Mirror”|    200|2024-07-29 15:00:00|    1|  5|\n",
            "|  ”Outer Range”|    672|2024-07-25 15:00:00|    1|  2|\n",
            "|  ”Outer Range”|    489|2024-07-28 15:00:00|    1|  2|\n",
            "|  ”Outer Range”|    256|2024-07-30 15:00:00|    1|  2|\n",
            "|    ”Panchayat”|    672|2024-07-27 15:00:00|    1|  3|\n",
            "|  ”Outer Range”|    489|2024-07-30 15:00:00|    1|  2|\n",
            "|    ”Panchayat”|    672|2024-07-29 15:00:00|    1|  3|\n",
            "|     ”Mirzapur”|    521|2024-07-28 15:00:00|    1|  3|\n",
            "|”Queens Gambit”|    211|2024-07-30 15:00:00|    1|  1|\n",
            "| ”Black Mirror”|    200|2024-07-28 15:00:00|    1|  5|\n",
            "|    ”Panchayat”|    672|2024-07-30 15:00:00|    1|  3|\n",
            "|    ”Panchayat”|    672|2024-07-28 15:00:00|    1|  3|\n",
            "|    ”Westworld”|    844|2024-07-29 15:00:00|    1|  3|\n",
            "|   ”Family Man”|    197|2024-07-30 15:00:00|    1|  2|\n",
            "| ”Black Mirror”|    200|2024-07-30 15:00:00|    1|  5|\n",
            "|     ”Mirzapur”|    521|2024-07-29 15:00:00|    1|  3|\n",
            "+---------------+-------+-------------------+-----+---+\n",
            "\n"
          ]
        },
        {
          "output_type": "execute_result",
          "data": {
            "text/plain": [
              "'211'"
            ],
            "application/vnd.google.colaboratory.intrinsic+json": {
              "type": "string"
            }
          },
          "metadata": {},
          "execution_count": 109
        }
      ]
    },
    {
      "cell_type": "code",
      "source": [
        "#Find the user with longest watching streak\n",
        "series_df.groupBy('user_id').agg({'timestamp':'count'}).orderBy('count(timestamp)',ascending=False).limit(1).collect()[0][0]"
      ],
      "metadata": {
        "id": "14CBZwe2M3rZ",
        "outputId": "55492b16-ca9f-4a5b-dffc-95b0b1cfb443",
        "colab": {
          "base_uri": "https://localhost:8080/",
          "height": 35
        }
      },
      "execution_count": 125,
      "outputs": [
        {
          "output_type": "execute_result",
          "data": {
            "text/plain": [
              "'672'"
            ],
            "application/vnd.google.colaboratory.intrinsic+json": {
              "type": "string"
            }
          },
          "metadata": {},
          "execution_count": 125
        }
      ]
    },
    {
      "cell_type": "code",
      "source": [
        "#Total Seasons available\n",
        "df2=series_df.groupBy('series').agg({'season':'max'}).withColumnRenamed('max(season)','max')\n",
        "df2.agg({'max':'sum'}).collect()[0][0]"
      ],
      "metadata": {
        "id": "X0HCvFNbye9Y",
        "outputId": "bf7bcd3d-836f-4608-81df-b7b609b28c61",
        "colab": {
          "base_uri": "https://localhost:8080/"
        }
      },
      "execution_count": 112,
      "outputs": [
        {
          "output_type": "execute_result",
          "data": {
            "text/plain": [
              "21.0"
            ]
          },
          "metadata": {},
          "execution_count": 112
        }
      ]
    },
    {
      "cell_type": "code",
      "source": [
        "#Fetch a list of all series\n",
        "df=series_df.groupBy('series').agg({'season':'max'})\n",
        "df.rdd.flatMap(lambda x:[x[0]]).collect()"
      ],
      "metadata": {
        "id": "weylH9PDM3uU",
        "outputId": "c3481ee9-a2c1-4f20-e8c0-ab097580b753",
        "colab": {
          "base_uri": "https://localhost:8080/"
        }
      },
      "execution_count": 116,
      "outputs": [
        {
          "output_type": "execute_result",
          "data": {
            "text/plain": [
              "['”Black Mirror”',\n",
              " '”Family Man”',\n",
              " '”Homecoming”',\n",
              " '”Mirzapur”',\n",
              " '”Outer Range”',\n",
              " '”Panchayat”',\n",
              " '”Queens Gambit”',\n",
              " '”Westworld”']"
            ]
          },
          "metadata": {},
          "execution_count": 116
        }
      ]
    },
    {
      "cell_type": "code",
      "source": [],
      "metadata": {
        "id": "vTLFFheUlMF7"
      },
      "execution_count": null,
      "outputs": []
    }
  ]
}