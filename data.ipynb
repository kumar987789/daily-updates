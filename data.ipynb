{
  "cells": [
    {
      "cell_type": "markdown",
      "metadata": {
        "id": "view-in-github",
        "colab_type": "text"
      },
      "source": [
        "<a href=\"https://colab.research.google.com/github/kumar987789/daily-updates/blob/main/data.ipynb\" target=\"_parent\"><img src=\"https://colab.research.google.com/assets/colab-badge.svg\" alt=\"Open In Colab\"/></a>"
      ]
    },
    {
      "cell_type": "code",
      "source": [
        "movies\n",
        "movieId,movieName,year\n",
        "1,Parmanu,2018\n",
        "2,URI,2019\n",
        "3,rrr,2022\n",
        "4,Bahubali,2015\n",
        "5,tanhaji,2020\n",
        "reviews\n",
        "movieId,movieInfo,reviews\n",
        "1,,435\n",
        "2,,492\n",
        "3,,444\n",
        "4,,880\n",
        "5,,722\n",
        "6,,888\n",
        "7,,220\n",
        "8,,350\n",
        "9,,619\n",
        "10,,226"
      ],
      "metadata": {
        "id": "vuNZgDY0MRuG"
      },
      "execution_count": null,
      "outputs": []
    },
    {
      "cell_type": "code",
      "source": [
        "%%writefile movies.csv\n",
        "movieId,movieName,year\n",
        "1,Parmanu,2018\n",
        "2,URI,2019\n",
        "3,rrr,2022\n",
        "4,Bahubali,2015\n",
        "5,tanhaji,2020"
      ],
      "metadata": {
        "id": "k3UwjvkSMRvf",
        "outputId": "fd322006-f161-40dc-b8b1-3d112455aa30",
        "colab": {
          "base_uri": "https://localhost:8080/"
        }
      },
      "execution_count": 1,
      "outputs": [
        {
          "output_type": "stream",
          "name": "stdout",
          "text": [
            "Writing movies.csv\n"
          ]
        }
      ]
    },
    {
      "cell_type": "code",
      "source": [
        "%%writefile reviews.csv\n",
        "movieId,movieInfo,reviews\n",
        "1,,435\n",
        "2,,492\n",
        "3,,444\n",
        "4,,880\n",
        "5,,722\n",
        "6,,888\n",
        "7,,220\n",
        "8,,350\n",
        "9,,619\n",
        "10,,226"
      ],
      "metadata": {
        "id": "TR6N3psNMRxO",
        "outputId": "73798471-19a6-4dae-8a19-4c93807a6e5b",
        "colab": {
          "base_uri": "https://localhost:8080/"
        }
      },
      "execution_count": 3,
      "outputs": [
        {
          "output_type": "stream",
          "name": "stdout",
          "text": [
            "Writing reviews.csv\n"
          ]
        }
      ]
    },
    {
      "cell_type": "code",
      "source": [
        "!pip install pyspark\n"
      ],
      "metadata": {
        "id": "JC1BMOQVMRy3",
        "outputId": "e21eb6ef-3b70-49d1-cb00-e9c227188241",
        "colab": {
          "base_uri": "https://localhost:8080/"
        }
      },
      "execution_count": 6,
      "outputs": [
        {
          "output_type": "stream",
          "name": "stdout",
          "text": [
            "Requirement already satisfied: pyspark in /usr/local/lib/python3.10/dist-packages (3.5.1)\n",
            "Requirement already satisfied: py4j==0.10.9.7 in /usr/local/lib/python3.10/dist-packages (from pyspark) (0.10.9.7)\n"
          ]
        }
      ]
    },
    {
      "cell_type": "code",
      "source": [
        "from pyspark.sql import SparkSession\n",
        "from pyspark.sql.functions import concat,col,lit,min,max"
      ],
      "metadata": {
        "id": "HE0AV3ZJODxh"
      },
      "execution_count": 29,
      "outputs": []
    },
    {
      "cell_type": "code",
      "source": [
        "spark=SparkSession.builder.appName('abc').getOrCreate()"
      ],
      "metadata": {
        "id": "4RE3lHN7MR0M"
      },
      "execution_count": 9,
      "outputs": []
    },
    {
      "cell_type": "markdown",
      "source": [],
      "metadata": {
        "id": "ztmHzfB7NgXH"
      }
    },
    {
      "cell_type": "code",
      "source": [
        "df=spark.read.option('header','True').csv('movies.csv')\n",
        "df1=spark.read.option('header','True').csv('reviews.csv')"
      ],
      "metadata": {
        "id": "Ei9utxY-MR1j"
      },
      "execution_count": 10,
      "outputs": []
    },
    {
      "cell_type": "code",
      "source": [
        "#  Clean reviews dataframe on the basis of movies data available. Hint - try left semi join, inner join, right join for joins\n",
        "# 2.  Fill movieInfo Column by concating movieName & year column (output should be dataframe).  Hint - try expr method\n",
        "# 3. Find movie with max reviews (output should be string)\n",
        "# 4. Find total reviews (output should be int"
      ],
      "metadata": {
        "id": "UbplXpaEMR2_"
      },
      "execution_count": null,
      "outputs": []
    },
    {
      "cell_type": "code",
      "source": [
        "#1)\n",
        "\n",
        "df.join(df1,df.movieId==df1.movieId,'leftsemi').show()\n"
      ],
      "metadata": {
        "id": "lqgSJAfiMR4f",
        "outputId": "c4309a95-b64a-4cf8-ea09-c5d0d5aed51a",
        "colab": {
          "base_uri": "https://localhost:8080/"
        }
      },
      "execution_count": 21,
      "outputs": [
        {
          "output_type": "stream",
          "name": "stdout",
          "text": [
            "+-------+---------+----+\n",
            "|movieId|movieName|year|\n",
            "+-------+---------+----+\n",
            "|      1|  Parmanu|2018|\n",
            "|      2|      URI|2019|\n",
            "|      3|      rrr|2022|\n",
            "|      4| Bahubali|2015|\n",
            "|      5|  tanhaji|2020|\n",
            "+-------+---------+----+\n",
            "\n"
          ]
        }
      ]
    },
    {
      "cell_type": "code",
      "source": [
        "x=df.join(df1,df.movieId==df1.movieId,'left')\n",
        "x.withColumn('movieInfo',concat(col('movieName'),lit(''),col('year'))).show()\n"
      ],
      "metadata": {
        "id": "eb93kyqoMR5q",
        "outputId": "172bc219-2a43-4d72-c9cc-1662eabb0df7",
        "colab": {
          "base_uri": "https://localhost:8080/"
        }
      },
      "execution_count": 28,
      "outputs": [
        {
          "output_type": "stream",
          "name": "stdout",
          "text": [
            "+-------+---------+----+-------+------------+-------+\n",
            "|movieId|movieName|year|movieId|   movieInfo|reviews|\n",
            "+-------+---------+----+-------+------------+-------+\n",
            "|      1|  Parmanu|2018|      1| Parmanu2018|    435|\n",
            "|      2|      URI|2019|      2|     URI2019|    492|\n",
            "|      3|      rrr|2022|      3|     rrr2022|    444|\n",
            "|      4| Bahubali|2015|      4|Bahubali2015|    880|\n",
            "|      5|  tanhaji|2020|      5| tanhaji2020|    722|\n",
            "+-------+---------+----+-------+------------+-------+\n",
            "\n"
          ]
        }
      ]
    },
    {
      "cell_type": "code",
      "source": [
        "x.groupBy('')"
      ],
      "metadata": {
        "id": "lmnW_pHlMR7L",
        "outputId": "efe86cf4-9aac-4951-d265-63dce8a0ab4b",
        "colab": {
          "base_uri": "https://localhost:8080/",
          "height": 186
        }
      },
      "execution_count": 34,
      "outputs": [
        {
          "output_type": "execute_result",
          "data": {
            "text/plain": [
              "<bound method DataFrame.groupBy of DataFrame[movieId: string, movieName: string, year: string, movieId: string, movieInfo: string, reviews: string]>"
            ],
            "text/html": [
              "<div style=\"max-width:800px; border: 1px solid var(--colab-border-color);\"><style>\n",
              "      pre.function-repr-contents {\n",
              "        overflow-x: auto;\n",
              "        padding: 8px 12px;\n",
              "        max-height: 500px;\n",
              "      }\n",
              "\n",
              "      pre.function-repr-contents.function-repr-contents-collapsed {\n",
              "        cursor: pointer;\n",
              "        max-height: 100px;\n",
              "      }\n",
              "    </style>\n",
              "    <pre style=\"white-space: initial; background:\n",
              "         var(--colab-secondary-surface-color); padding: 8px 12px;\n",
              "         border-bottom: 1px solid var(--colab-border-color);\"><b>pyspark.sql.dataframe.DataFrame.groupBy</b><br/>def groupBy(*cols: &#x27;ColumnOrName&#x27;) -&gt; &#x27;GroupedData&#x27;</pre><pre class=\"function-repr-contents function-repr-contents-collapsed\" style=\"\"><a class=\"filepath\" style=\"display:none\" href=\"#\">/usr/local/lib/python3.10/dist-packages/pyspark/sql/dataframe.py</a>Groups the :class:`DataFrame` using the specified columns,\n",
              "so we can run aggregation on them. See :class:`GroupedData`\n",
              "for all the available aggregate functions.\n",
              "\n",
              ":func:`groupby` is an alias for :func:`groupBy`.\n",
              "\n",
              ".. versionadded:: 1.3.0\n",
              "\n",
              ".. versionchanged:: 3.4.0\n",
              "    Supports Spark Connect.\n",
              "\n",
              "Parameters\n",
              "----------\n",
              "cols : list, str or :class:`Column`\n",
              "    columns to group by.\n",
              "    Each element should be a column name (string) or an expression (:class:`Column`)\n",
              "    or list of them.\n",
              "\n",
              "Returns\n",
              "-------\n",
              ":class:`GroupedData`\n",
              "    Grouped data by given columns.\n",
              "\n",
              "Examples\n",
              "--------\n",
              "&gt;&gt;&gt; df = spark.createDataFrame([\n",
              "...     (2, &quot;Alice&quot;), (2, &quot;Bob&quot;), (2, &quot;Bob&quot;), (5, &quot;Bob&quot;)], schema=[&quot;age&quot;, &quot;name&quot;])\n",
              "\n",
              "Empty grouping columns triggers a global aggregation.\n",
              "\n",
              "&gt;&gt;&gt; df.groupBy().avg().show()\n",
              "+--------+\n",
              "|avg(age)|\n",
              "+--------+\n",
              "|    2.75|\n",
              "+--------+\n",
              "\n",
              "Group-by &#x27;name&#x27;, and specify a dictionary to calculate the summation of &#x27;age&#x27;.\n",
              "\n",
              "&gt;&gt;&gt; df.groupBy(&quot;name&quot;).agg({&quot;age&quot;: &quot;sum&quot;}).sort(&quot;name&quot;).show()\n",
              "+-----+--------+\n",
              "| name|sum(age)|\n",
              "+-----+--------+\n",
              "|Alice|       2|\n",
              "|  Bob|       9|\n",
              "+-----+--------+\n",
              "\n",
              "Group-by &#x27;name&#x27;, and calculate maximum values.\n",
              "\n",
              "&gt;&gt;&gt; df.groupBy(df.name).max().sort(&quot;name&quot;).show()\n",
              "+-----+--------+\n",
              "| name|max(age)|\n",
              "+-----+--------+\n",
              "|Alice|       2|\n",
              "|  Bob|       5|\n",
              "+-----+--------+\n",
              "\n",
              "Group-by &#x27;name&#x27; and &#x27;age&#x27;, and calculate the number of rows in each group.\n",
              "\n",
              "&gt;&gt;&gt; df.groupBy([&quot;name&quot;, df.age]).count().sort(&quot;name&quot;, &quot;age&quot;).show()\n",
              "+-----+---+-----+\n",
              "| name|age|count|\n",
              "+-----+---+-----+\n",
              "|Alice|  2|    1|\n",
              "|  Bob|  2|    2|\n",
              "|  Bob|  5|    1|\n",
              "+-----+---+-----+</pre>\n",
              "      <script>\n",
              "      if (google.colab.kernel.accessAllowed && google.colab.files && google.colab.files.view) {\n",
              "        for (const element of document.querySelectorAll('.filepath')) {\n",
              "          element.style.display = 'block'\n",
              "          element.onclick = (event) => {\n",
              "            event.preventDefault();\n",
              "            event.stopPropagation();\n",
              "            google.colab.files.view(element.textContent, 3345);\n",
              "          };\n",
              "        }\n",
              "      }\n",
              "      for (const element of document.querySelectorAll('.function-repr-contents')) {\n",
              "        element.onclick = (event) => {\n",
              "          event.preventDefault();\n",
              "          event.stopPropagation();\n",
              "          element.classList.toggle('function-repr-contents-collapsed');\n",
              "        };\n",
              "      }\n",
              "      </script>\n",
              "      </div>"
            ]
          },
          "metadata": {},
          "execution_count": 34
        }
      ]
    },
    {
      "cell_type": "code",
      "source": [],
      "metadata": {
        "id": "R6Hrb_ggMR8g"
      },
      "execution_count": null,
      "outputs": []
    },
    {
      "cell_type": "code",
      "source": [],
      "metadata": {
        "id": "g-Fnvd3_MR-a"
      },
      "execution_count": null,
      "outputs": []
    },
    {
      "cell_type": "code",
      "source": [],
      "metadata": {
        "id": "SbEk6-XvMR_t"
      },
      "execution_count": null,
      "outputs": []
    },
    {
      "cell_type": "code",
      "source": [],
      "metadata": {
        "id": "Sy48vfXMMSBm"
      },
      "execution_count": null,
      "outputs": []
    },
    {
      "cell_type": "code",
      "source": [],
      "metadata": {
        "id": "XTzPOMt3MSC_"
      },
      "execution_count": null,
      "outputs": []
    },
    {
      "cell_type": "code",
      "source": [],
      "metadata": {
        "id": "ZXetC93sMSEa"
      },
      "execution_count": null,
      "outputs": []
    },
    {
      "cell_type": "code",
      "source": [],
      "metadata": {
        "id": "EbRk3rOsMSF4"
      },
      "execution_count": null,
      "outputs": []
    },
    {
      "cell_type": "code",
      "source": [],
      "metadata": {
        "id": "KMmjrLyTMSHM"
      },
      "execution_count": null,
      "outputs": []
    },
    {
      "cell_type": "code",
      "source": [],
      "metadata": {
        "id": "Isr4NyDPMSIi"
      },
      "execution_count": null,
      "outputs": []
    },
    {
      "cell_type": "code",
      "source": [],
      "metadata": {
        "id": "iz3NjTABMSKC"
      },
      "execution_count": null,
      "outputs": []
    },
    {
      "cell_type": "code",
      "source": [],
      "metadata": {
        "id": "Rgq4jp1xMSLX"
      },
      "execution_count": null,
      "outputs": []
    },
    {
      "cell_type": "code",
      "source": [],
      "metadata": {
        "id": "KkRdTwycMSMq"
      },
      "execution_count": null,
      "outputs": []
    },
    {
      "cell_type": "code",
      "source": [],
      "metadata": {
        "id": "fG-N-N75MSOH"
      },
      "execution_count": null,
      "outputs": []
    },
    {
      "cell_type": "code",
      "source": [],
      "metadata": {
        "id": "_swCwBZkMSPV"
      },
      "execution_count": null,
      "outputs": []
    },
    {
      "cell_type": "code",
      "source": [],
      "metadata": {
        "id": "XIfA9Tz-MSQ6"
      },
      "execution_count": null,
      "outputs": []
    },
    {
      "cell_type": "code",
      "source": [],
      "metadata": {
        "id": "ndEZMO1jMSSJ"
      },
      "execution_count": null,
      "outputs": []
    },
    {
      "cell_type": "code",
      "source": [],
      "metadata": {
        "id": "bCG4Z2WiMSTu"
      },
      "execution_count": null,
      "outputs": []
    },
    {
      "cell_type": "code",
      "source": [],
      "metadata": {
        "id": "7P9K1-FMMSU1"
      },
      "execution_count": null,
      "outputs": []
    },
    {
      "cell_type": "code",
      "source": [],
      "metadata": {
        "id": "bzs42D1eMSWi"
      },
      "execution_count": null,
      "outputs": []
    },
    {
      "cell_type": "code",
      "source": [],
      "metadata": {
        "id": "En7ScdTxMSXm"
      },
      "execution_count": null,
      "outputs": []
    },
    {
      "cell_type": "code",
      "source": [],
      "metadata": {
        "id": "CUMSCk38MSZK"
      },
      "execution_count": null,
      "outputs": []
    },
    {
      "cell_type": "code",
      "source": [],
      "metadata": {
        "id": "jbaX9bE9MSZ8"
      },
      "execution_count": null,
      "outputs": []
    }
  ],
  "metadata": {
    "colab": {
      "name": "Welcome To Colab",
      "provenance": [],
      "include_colab_link": true
    },
    "kernelspec": {
      "display_name": "Python 3",
      "name": "python3"
    }
  },
  "nbformat": 4,
  "nbformat_minor": 0
}