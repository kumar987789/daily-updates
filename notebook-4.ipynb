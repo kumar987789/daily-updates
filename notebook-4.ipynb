{
 "cells": [
  {
   "cell_type": "code",
   "execution_count": null,
   "metadata": {
    "id": "vpo5Vr0QiMUE"
   },
   "outputs": [],
   "source": [
    "#Create local file with the following data\n",
    "\n",
    "Complete the following code using pyspark RDDs\n",
    "\n",
    "movie.csv\n",
    "movieId,moviename,director,year\n",
    "200,shawshank,FrankD,1994\n",
    "201,saw,JamesW,2004\n",
    "202,avengers,JossW,2012\n",
    "204,mi,ChristopherMcq,2018\n",
    "205,wrongturn,DeclanO,2011\n",
    "\n",
    "award.csv\n",
    "catalogId,movieId,awards\n",
    "11,200,2\n",
    "12,200,3\n",
    "13,201,1\n",
    "14,202,3\n",
    "15,202,5\n",
    "16,204,4\n",
    "17,205,1"
   ]
  },
  {
   "cell_type": "code",
   "execution_count": 1,
   "metadata": {
    "id": "deuJPwWWiUqv"
   },
   "outputs": [
    {
     "name": "stderr",
     "output_type": "stream",
     "text": [
      "/home/labuser/.local/lib/python3.6/site-packages/pyspark/context.py:238: FutureWarning: Python 3.6 support is deprecated in Spark 3.2.\n",
      "  FutureWarning\n"
     ]
    }
   ],
   "source": [
    "#Import libraries & Create SparkSession\n",
    "from pyspark.sql import SparkSession\n",
    "from pyspark.sql import *\n",
    "from pyspark.sql.functions import concat,col,lit\n",
    "spark=SparkSession.builder.appName('nikhil4').getOrCreate()"
   ]
  },
  {
   "cell_type": "code",
   "execution_count": 2,
   "metadata": {
    "id": "xgXdfz2HiUta"
   },
   "outputs": [
    {
     "name": "stdout",
     "output_type": "stream",
     "text": [
      "+-------+---------+--------------+----+\n",
      "|movieId|moviename|      director|year|\n",
      "+-------+---------+--------------+----+\n",
      "|    200|shawshank|        FrankD|1994|\n",
      "|    201|      saw|        JamesW|2004|\n",
      "|    202| avengers|         JossW|2012|\n",
      "|    204|       mi|ChristopherMcq|2018|\n",
      "|    205|wrongturn|       DeclanO|2011|\n",
      "+-------+---------+--------------+----+\n",
      "\n",
      "+---------+-------+------+\n",
      "|catalogId|movieId|awards|\n",
      "+---------+-------+------+\n",
      "|       11|    200|     2|\n",
      "|       12|    200|     3|\n",
      "|       13|    201|     1|\n",
      "|       14|    202|     3|\n",
      "|       15|    202|     5|\n",
      "|       16|    204|     4|\n",
      "|       17|    205|     1|\n",
      "+---------+-------+------+\n",
      "\n"
     ]
    }
   ],
   "source": [
    "#Create two dataframes using respective csv files from local storage\n",
    "df1=spark.read.option('header','True').csv('movies.csv')\n",
    "df2=spark.read.option('header','True').csv('award.csv')\n",
    "df1.show()\n",
    "df2.show()"
   ]
  },
  {
   "cell_type": "code",
   "execution_count": 4,
   "metadata": {
    "id": "tvQmmuuSiUwI"
   },
   "outputs": [
    {
     "name": "stdout",
     "output_type": "stream",
     "text": [
      "+----------------+\n",
      "|       movieInfo|\n",
      "+----------------+\n",
      "| shawshankFrankD|\n",
      "|       sawJamesW|\n",
      "|   avengersJossW|\n",
      "|miChristopherMcq|\n",
      "|wrongturnDeclanO|\n",
      "+----------------+\n",
      "\n"
     ]
    }
   ],
   "source": [
    "#Create a new column called \"movieInfo\" in movies dataframe which includes movieName & Director\n",
    "df1.select(concat(col('moviename'),lit(''),col('director')).alias('movieInfo')).show()\n"
   ]
  },
  {
   "cell_type": "code",
   "execution_count": 5,
   "metadata": {},
   "outputs": [
    {
     "name": "stdout",
     "output_type": "stream",
     "text": [
      "+-------+-----------------+--------------+----+\n",
      "|movieId|        movieName|      director|year|\n",
      "+-------+-----------------+--------------+----+\n",
      "|    200| shawshank FrankD|        FrankD|1994|\n",
      "|    201|       saw JamesW|        JamesW|2004|\n",
      "|    202|   avengers JossW|         JossW|2012|\n",
      "|    204|mi ChristopherMcq|ChristopherMcq|2018|\n",
      "|    205|wrongturn DeclanO|       DeclanO|2011|\n",
      "+-------+-----------------+--------------+----+\n",
      "\n"
     ]
    }
   ],
   "source": [
    "df1.withColumn('movieName',concat(col('moviename'),lit(' '),col('director'))).show()"
   ]
  },
  {
   "cell_type": "code",
   "execution_count": 13,
   "metadata": {},
   "outputs": [],
   "source": [
    "from pyspark.sql import functions as sf"
   ]
  },
  {
   "cell_type": "code",
   "execution_count": 14,
   "metadata": {},
   "outputs": [],
   "source": [
    "from pyspark.sql.functions import concat,col"
   ]
  },
  {
   "cell_type": "code",
   "execution_count": 20,
   "metadata": {
    "id": "7gl8AFTDiUzB"
   },
   "outputs": [
    {
     "name": "stdout",
     "output_type": "stream",
     "text": [
      "+-------+---------+-----------+\n",
      "|movieId|moviename|sum(awards)|\n",
      "+-------+---------+-----------+\n",
      "|    201|      saw|        1.0|\n",
      "|    205|wrongturn|        1.0|\n",
      "|    202| avengers|        8.0|\n",
      "|    204|       mi|        4.0|\n",
      "|    200|shawshank|        5.0|\n",
      "+-------+---------+-----------+\n",
      "\n"
     ]
    }
   ],
   "source": [
    "#Calculate total number of awards for each movie & display - movieID, movienName, awardsCount\n",
    "tables=df1.join(df2,'movieId')\n",
    "x=tables.groupBy('movieId','moviename').agg({'awards':'sum'}).show()\n"
   ]
  },
  {
   "cell_type": "code",
   "execution_count": 19,
   "metadata": {
    "id": "sPlzRfJtiU1W"
   },
   "outputs": [
    {
     "name": "stdout",
     "output_type": "stream",
     "text": [
      "+-------+---------+-----------+\n",
      "|movieId|moviename|sum(awards)|\n",
      "+-------+---------+-----------+\n",
      "|    202| avengers|        8.0|\n",
      "|    200|shawshank|        5.0|\n",
      "|    204|       mi|        4.0|\n",
      "+-------+---------+-----------+\n",
      "only showing top 3 rows\n",
      "\n"
     ]
    }
   ],
   "source": [
    "#Get top three movies on the basis of number of awards\n",
    "x.sort('sum(awards)',ascending=False).show(3)"
   ]
  },
  {
   "cell_type": "code",
   "execution_count": 12,
   "metadata": {
    "id": "cLlpSGfqiU3n"
   },
   "outputs": [
    {
     "name": "stdout",
     "output_type": "stream",
     "text": [
      "+-------+---------+--------------+----+\n",
      "|movieId|moviename|      director|year|\n",
      "+-------+---------+--------------+----+\n",
      "|    204|       mi|ChristopherMcq|2018|\n",
      "|    202| avengers|         JossW|2012|\n",
      "|    205|wrongturn|       DeclanO|2011|\n",
      "+-------+---------+--------------+----+\n",
      "only showing top 3 rows\n",
      "\n"
     ]
    }
   ],
   "source": [
    "#Get top three latest movies\n",
    "df1.sort('year',ascending=False).show(3)\n"
   ]
  },
  {
   "cell_type": "code",
   "execution_count": null,
   "metadata": {},
   "outputs": [],
   "source": []
  }
 ],
 "metadata": {
  "colab": {
   "provenance": []
  },
  "kernelspec": {
   "display_name": "Python 3",
   "language": "python",
   "name": "python3"
  },
  "language_info": {
   "codemirror_mode": {
    "name": "ipython",
    "version": 3
   },
   "file_extension": ".py",
   "mimetype": "text/x-python",
   "name": "python",
   "nbconvert_exporter": "python",
   "pygments_lexer": "ipython3",
   "version": "3.6.8"
  }
 },
 "nbformat": 4,
 "nbformat_minor": 1
}
