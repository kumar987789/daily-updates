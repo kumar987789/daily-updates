{
 "cells": [
  {
   "cell_type": "markdown",
   "metadata": {
    "id": "u9qknWb9bfXd"
   },
   "source": [
    "#SparkSQL\n",
    "\n",
    "Working with PySpark's built-in SQL compliant functionality to investigate flights-delay data at scale\n",
    "\n",
    "\n",
    "*   Understand the limitations of SparkSQL\n",
    "*   Experiment with createOrReplaceGlobalView\n",
    "*   Work on same executions through pyspark methods\n",
    "\n"
   ]
  },
  {
   "cell_type": "code",
   "execution_count": 2,
   "metadata": {
    "id": "XLzhcLK6bVbq"
   },
   "outputs": [
    {
     "ename": "SyntaxError",
     "evalue": "invalid syntax (<ipython-input-2-e1060335c634>, line 2)",
     "output_type": "error",
     "traceback": [
      "\u001b[0;36m  File \u001b[0;32m\"<ipython-input-2-e1060335c634>\"\u001b[0;36m, line \u001b[0;32m2\u001b[0m\n\u001b[0;31m    Data Source Repo - https://kloudbitbucket.s3.amazonaws.com/krunal_ds/departuredelays.csv\u001b[0m\n\u001b[0m              ^\u001b[0m\n\u001b[0;31mSyntaxError\u001b[0m\u001b[0;31m:\u001b[0m invalid syntax\n"
     ]
    }
   ],
   "source": [
    "#Download Data from source\n",
    "Data Source Repo - https://kloudbitbucket.s3.amazonaws.com/krunal_ds/departuredelays.csv"
   ]
  },
  {
   "cell_type": "code",
   "execution_count": 3,
   "metadata": {
    "id": "3UdCaWepbetc"
   },
   "outputs": [
    {
     "name": "stderr",
     "output_type": "stream",
     "text": [
      "/home/labuser/.local/lib/python3.6/site-packages/pyspark/context.py:238: FutureWarning: Python 3.6 support is deprecated in Spark 3.2.\n",
      "  FutureWarning\n"
     ]
    }
   ],
   "source": [
    "#Import necessary spark components\n",
    "from pyspark.sql import *\n",
    "arr=SparkSession.builder.appName(\"nikhil3\").getOrCreate()"
   ]
  },
  {
   "cell_type": "code",
   "execution_count": 4,
   "metadata": {
    "id": "6FP1wdXTbewW"
   },
   "outputs": [],
   "source": [
    "#Create a SparkSession\n",
    "arr=SparkSession.builder.appName(\"nikhil3\").getOrCreate()"
   ]
  },
  {
   "cell_type": "code",
   "execution_count": 5,
   "metadata": {
    "id": "gXObRS7gbezU"
   },
   "outputs": [],
   "source": [
    "#Import Data into Spark Native Dataframe\n",
    "df=arr.read.option('header','True').csv('departuredelays.csv')"
   ]
  },
  {
   "cell_type": "code",
   "execution_count": 7,
   "metadata": {
    "id": "DqYqJHizbe3y"
   },
   "outputs": [],
   "source": [
    "#Convert into an SQL complaint format\n",
    "df.createOrReplaceTempView(\"data\")\n"
   ]
  },
  {
   "cell_type": "code",
   "execution_count": 33,
   "metadata": {
    "id": "MWu1GiPwbe6n"
   },
   "outputs": [
    {
     "name": "stdout",
     "output_type": "stream",
     "text": [
      "+--------+-----+--------+------+-----------+\n",
      "|    date|delay|distance|origin|destination|\n",
      "+--------+-----+--------+------+-----------+\n",
      "|01011245|    6|     602|   ABE|        ATL|\n",
      "|01020600|   -8|     369|   ABE|        DTW|\n",
      "|01021245|   -2|     602|   ABE|        ATL|\n",
      "|01020605|   -4|     602|   ABE|        ATL|\n",
      "|01031245|   -4|     602|   ABE|        ATL|\n",
      "|01030605|    0|     602|   ABE|        ATL|\n",
      "|01041243|   10|     602|   ABE|        ATL|\n",
      "|01040605|   28|     602|   ABE|        ATL|\n",
      "|01051245|   88|     602|   ABE|        ATL|\n",
      "|01050605|    9|     602|   ABE|        ATL|\n",
      "|01061215|   -6|     602|   ABE|        ATL|\n",
      "|01061725|   69|     602|   ABE|        ATL|\n",
      "|01061230|    0|     369|   ABE|        DTW|\n",
      "|01060625|   -3|     602|   ABE|        ATL|\n",
      "|01070600|    0|     369|   ABE|        DTW|\n",
      "|01071725|    0|     602|   ABE|        ATL|\n",
      "|01071230|    0|     369|   ABE|        DTW|\n",
      "|01070625|    0|     602|   ABE|        ATL|\n",
      "|01071219|    0|     569|   ABE|        ORD|\n",
      "|01080600|    0|     369|   ABE|        DTW|\n",
      "+--------+-----+--------+------+-----------+\n",
      "only showing top 20 rows\n",
      "\n"
     ]
    }
   ],
   "source": [
    "#Display 100 rows of data with SQL query\n",
    "arr.sql('select * from data limit 100').show()"
   ]
  },
  {
   "cell_type": "code",
   "execution_count": 35,
   "metadata": {
    "id": "eWGh0GpWcRsX"
   },
   "outputs": [
    {
     "name": "stdout",
     "output_type": "stream",
     "text": [
      "+------+-----------+\n",
      "|origin|destination|\n",
      "+------+-----------+\n",
      "|   ATL|        GSP|\n",
      "|   BQN|        MCO|\n",
      "|   CLE|        SJU|\n",
      "|   DSM|        EWR|\n",
      "|   EWR|        STT|\n",
      "|   FSD|        ATL|\n",
      "|   AUS|        ELP|\n",
      "|   BMI|        MCO|\n",
      "|   CAE|        ATL|\n",
      "|   CLE|        MCI|\n",
      "|   CPR|        DEN|\n",
      "|   CVG|        BDL|\n",
      "|   EYW|        TPA|\n",
      "|   ATL|        HDN|\n",
      "|   BOS|        CVG|\n",
      "|   BWI|        MDW|\n",
      "|   COS|        SFO|\n",
      "|   DFW|        SDF|\n",
      "|   DFW|        PNS|\n",
      "|   DTW|        MKE|\n",
      "+------+-----------+\n",
      "only showing top 20 rows\n",
      "\n"
     ]
    }
   ],
   "source": [
    "#Get a list of all Origin and Destination airports\n",
    "arr.sql('select distinct origin,destination from data').show()"
   ]
  },
  {
   "cell_type": "code",
   "execution_count": 38,
   "metadata": {
    "id": "QKnQPgqicRvS"
   },
   "outputs": [
    {
     "name": "stdout",
     "output_type": "stream",
     "text": [
      "+--------+-----+--------+------+-----------+\n",
      "|    date|delay|distance|origin|destination|\n",
      "+--------+-----+--------+------+-----------+\n",
      "|01070600|    0|     100|   BDL|        EWR|\n",
      "|01081015|   42|     100|   BDL|        EWR|\n",
      "|01071015|    0|     100|   BDL|        EWR|\n",
      "|01071321|    0|     100|   BDL|        EWR|\n",
      "|01081321|   19|     100|   BDL|        EWR|\n",
      "+--------+-----+--------+------+-----------+\n",
      "\n"
     ]
    }
   ],
   "source": [
    "#Find the top 5 longest distance travel routes\n",
    "arr.sql('select * from data order by distance limit 5').show()"
   ]
  },
  {
   "cell_type": "code",
   "execution_count": 8,
   "metadata": {
    "id": "-UNJNctPcRx2"
   },
   "outputs": [
    {
     "name": "stdout",
     "output_type": "stream",
     "text": [
      "+------+-----------+\n",
      "|origin|count_delay|\n",
      "+------+-----------+\n",
      "|   ATL|      91484|\n",
      "|   DFW|      68482|\n",
      "|   ORD|      64228|\n",
      "+------+-----------+\n",
      "\n"
     ]
    }
   ],
   "source": [
    "#Find top 3 origin airport with maximum flight delay occurances\n",
    "arr.sql('select origin,count(delay) as count_delay from data group by origin order by count_delay desc limit 3').show()"
   ]
  },
  {
   "cell_type": "code",
   "execution_count": 9,
   "metadata": {
    "id": "0YeWikvEcR0h"
   },
   "outputs": [
    {
     "name": "stdout",
     "output_type": "stream",
     "text": [
      "+-----------+------------+\n",
      "|destination|count(delay)|\n",
      "+-----------+------------+\n",
      "|        ATL|       90434|\n",
      "|        DFW|       66050|\n",
      "|        ORD|       61967|\n",
      "+-----------+------------+\n",
      "\n"
     ]
    }
   ],
   "source": [
    "#Find top 3 destination airport with maximum flight delay occurances\n",
    "arr.sql('select destination,count(delay) from data group by destination order by count(delay) desc limit 3').show()"
   ]
  },
  {
   "cell_type": "code",
   "execution_count": 59,
   "metadata": {
    "id": "dUJBKTwLcR34"
   },
   "outputs": [
    {
     "name": "stdout",
     "output_type": "stream",
     "text": [
      "+------+-----------+----------+\n",
      "|origin|destination|max(delay)|\n",
      "+------+-----------+----------+\n",
      "|   SMF|        SLC|       995|\n",
      "+------+-----------+----------+\n",
      "\n"
     ]
    }
   ],
   "source": [
    "#Find the route with maximum delay occurances\n",
    "arr.sql('select origin,destination,max(delay) from data group by origin,destination order by max(delay) desc limit 1 ').show()"
   ]
  },
  {
   "cell_type": "code",
   "execution_count": 62,
   "metadata": {
    "id": "0OX5pSTqcR5s"
   },
   "outputs": [
    {
     "name": "stdout",
     "output_type": "stream",
     "text": [
      "+------+-----------+----------+\n",
      "|origin|destination|max(delay)|\n",
      "+------+-----------+----------+\n",
      "|   SMF|        SLC|       995|\n",
      "|   SJC|        ORD|       994|\n",
      "|   MOT|        DEN|       993|\n",
      "+------+-----------+----------+\n",
      "\n"
     ]
    }
   ],
   "source": [
    "#Find the top three routes with maximum time-delay\n",
    "arr.sql('select origin,destination,max(delay) from data group by origin,destination order by max(delay) desc limit 3 ').show()"
   ]
  },
  {
   "cell_type": "code",
   "execution_count": 44,
   "metadata": {
    "id": "oHf6MWCxcSAy"
   },
   "outputs": [
    {
     "name": "stdout",
     "output_type": "stream",
     "text": [
      "+--------+\n",
      "|distance|\n",
      "+--------+\n",
      "|     462|\n",
      "|    1590|\n",
      "|     525|\n",
      "+--------+\n",
      "\n"
     ]
    }
   ],
   "source": [
    "#Find the distance for top three max time-delay routes\n",
    "arr.sql('select distance from data order by delay desc limit 3').show()"
   ]
  },
  {
   "cell_type": "code",
   "execution_count": null,
   "metadata": {},
   "outputs": [],
   "source": []
  }
 ],
 "metadata": {
  "colab": {
   "provenance": []
  },
  "kernelspec": {
   "display_name": "Python 3",
   "language": "python",
   "name": "python3"
  },
  "language_info": {
   "codemirror_mode": {
    "name": "ipython",
    "version": 3
   },
   "file_extension": ".py",
   "mimetype": "text/x-python",
   "name": "python",
   "nbconvert_exporter": "python",
   "pygments_lexer": "ipython3",
   "version": "3.6.8"
  }
 },
 "nbformat": 4,
 "nbformat_minor": 1
}
