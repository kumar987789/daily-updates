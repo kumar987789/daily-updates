{
  "cells": [
    {
      "cell_type": "markdown",
      "metadata": {
        "id": "view-in-github",
        "colab_type": "text"
      },
      "source": [
        "<a href=\"https://colab.research.google.com/github/kumar987789/daily-updates/blob/main/nani.ipynb\" target=\"_parent\"><img src=\"https://colab.research.google.com/assets/colab-badge.svg\" alt=\"Open In Colab\"/></a>"
      ]
    },
    {
      "cell_type": "code",
      "source": [
        "movies\n",
        "movieId,movieName,year\n",
        "1,Parmanu,2018\n",
        "2,URI,2019\n",
        "3,rrr,2022\n",
        "4,Bahubali,2015\n",
        "5,tanhaji,2020\n",
        "reviews\n",
        "movieId,movieInfo,reviews\n",
        "1,,435\n",
        "2,,492\n",
        "3,,444\n",
        "4,,880\n",
        "5,,722\n",
        "6,,888\n",
        "7,,220\n",
        "8,,350\n",
        "9,,619\n",
        "10,,226"
      ],
      "metadata": {
        "id": "vuNZgDY0MRuG"
      },
      "execution_count": null,
      "outputs": []
    },
    {
      "cell_type": "code",
      "source": [
        "%%writefile movies.csv\n",
        "movieId,movieName,year\n",
        "1,Parmanu,2018\n",
        "2,URI,2019\n",
        "3,rrr,2022\n",
        "4,Bahubali,2015\n",
        "5,tanhaji,2020"
      ],
      "metadata": {
        "colab": {
          "base_uri": "https://localhost:8080/"
        },
        "id": "k3UwjvkSMRvf",
        "outputId": "fd322006-f161-40dc-b8b1-3d112455aa30"
      },
      "execution_count": 1,
      "outputs": [
        {
          "output_type": "stream",
          "name": "stdout",
          "text": [
            "Writing movies.csv\n"
          ]
        }
      ]
    },
    {
      "cell_type": "code",
      "source": [
        "%%writefile reviews.csv\n",
        "movieId,movieInfo,reviews\n",
        "1,,435\n",
        "2,,492\n",
        "3,,444\n",
        "4,,880\n",
        "5,,722\n",
        "6,,888\n",
        "7,,220\n",
        "8,,350\n",
        "9,,619\n",
        "10,,226"
      ],
      "metadata": {
        "colab": {
          "base_uri": "https://localhost:8080/"
        },
        "id": "TR6N3psNMRxO",
        "outputId": "73798471-19a6-4dae-8a19-4c93807a6e5b"
      },
      "execution_count": 3,
      "outputs": [
        {
          "output_type": "stream",
          "name": "stdout",
          "text": [
            "Writing reviews.csv\n"
          ]
        }
      ]
    },
    {
      "cell_type": "code",
      "source": [
        "!pip install pyspark\n"
      ],
      "metadata": {
        "colab": {
          "base_uri": "https://localhost:8080/"
        },
        "id": "JC1BMOQVMRy3",
        "outputId": "e21eb6ef-3b70-49d1-cb00-e9c227188241"
      },
      "execution_count": 6,
      "outputs": [
        {
          "output_type": "stream",
          "name": "stdout",
          "text": [
            "Requirement already satisfied: pyspark in /usr/local/lib/python3.10/dist-packages (3.5.1)\n",
            "Requirement already satisfied: py4j==0.10.9.7 in /usr/local/lib/python3.10/dist-packages (from pyspark) (0.10.9.7)\n"
          ]
        }
      ]
    },
    {
      "cell_type": "code",
      "source": [
        "from pyspark.sql import SparkSession\n",
        "from pyspark.sql.functions import concat,col,lit,min,max,expr,count"
      ],
      "metadata": {
        "id": "HE0AV3ZJODxh"
      },
      "execution_count": 56,
      "outputs": []
    },
    {
      "cell_type": "markdown",
      "source": [],
      "metadata": {
        "id": "5V037qS5W5t3"
      }
    },
    {
      "cell_type": "code",
      "source": [
        "spark=SparkSession.builder.appName('abc').getOrCreate()"
      ],
      "metadata": {
        "id": "4RE3lHN7MR0M"
      },
      "execution_count": 9,
      "outputs": []
    },
    {
      "cell_type": "markdown",
      "source": [],
      "metadata": {
        "id": "ztmHzfB7NgXH"
      }
    },
    {
      "cell_type": "code",
      "source": [
        "df=spark.read.option('header','True').csv('movies.csv')\n",
        "df1=spark.read.option('header','True').csv('reviews.csv')"
      ],
      "metadata": {
        "id": "Ei9utxY-MR1j"
      },
      "execution_count": 10,
      "outputs": []
    },
    {
      "cell_type": "code",
      "source": [
        "#  Clean reviews dataframe on the basis of movies data available. Hint - try left semi join, inner join, right join for joins\n",
        "# 2.  Fill movieInfo Column by concating movieName & year column (output should be dataframe).  Hint - try expr method\n",
        "# 3. Find movie with max reviews (output should be string)\n",
        "# 4. Find total reviews (output should be int)"
      ],
      "metadata": {
        "id": "UbplXpaEMR2_"
      },
      "execution_count": null,
      "outputs": []
    },
    {
      "cell_type": "code",
      "source": [
        "#1)Clean reviews dataframe on the basis of movies data available. Hint - try left semi join, inner join, right join for joins\n",
        "\n",
        "df.join(df1,df.movieId==df1.movieId,'leftsemi').show()\n"
      ],
      "metadata": {
        "colab": {
          "base_uri": "https://localhost:8080/"
        },
        "id": "lqgSJAfiMR4f",
        "outputId": "46436410-72d7-43e9-9427-b427b59c4458"
      },
      "execution_count": 54,
      "outputs": [
        {
          "output_type": "stream",
          "name": "stdout",
          "text": [
            "+-------+---------+----+\n",
            "|movieId|movieName|year|\n",
            "+-------+---------+----+\n",
            "|      1|  Parmanu|2018|\n",
            "|      2|      URI|2019|\n",
            "|      3|      rrr|2022|\n",
            "|      4| Bahubali|2015|\n",
            "|      5|  tanhaji|2020|\n",
            "+-------+---------+----+\n",
            "\n"
          ]
        }
      ]
    },
    {
      "cell_type": "code",
      "source": [
        "x=df.join(df1,df.movieId==df1.movieId,'left')\n",
        "#x.withColumn('movieInfo',concat(col('movieName'),lit(''),col('year'))).show()\n",
        "x.withColumn('movieInfo',expr('concat(movieName,\" \",year)')).show()\n"
      ],
      "metadata": {
        "colab": {
          "base_uri": "https://localhost:8080/"
        },
        "id": "eb93kyqoMR5q",
        "outputId": "a28dc14a-5c1e-44c0-937d-874167c6e84d"
      },
      "execution_count": 39,
      "outputs": [
        {
          "output_type": "stream",
          "name": "stdout",
          "text": [
            "+-------+---------+----+-------+-------------+-------+\n",
            "|movieId|movieName|year|movieId|    movieInfo|reviews|\n",
            "+-------+---------+----+-------+-------------+-------+\n",
            "|      1|  Parmanu|2018|      1| Parmanu 2018|    435|\n",
            "|      2|      URI|2019|      2|     URI 2019|    492|\n",
            "|      3|      rrr|2022|      3|     rrr 2022|    444|\n",
            "|      4| Bahubali|2015|      4|Bahubali 2015|    880|\n",
            "|      5|  tanhaji|2020|      5| tanhaji 2020|    722|\n",
            "+-------+---------+----+-------+-------------+-------+\n",
            "\n"
          ]
        }
      ]
    },
    {
      "cell_type": "code",
      "source": [
        "#x.groupBy('movieName').agg(max('reviews')).show(1)\n",
        "x.select('movieName').orderBy('reviews',ascending=False).collect()[0][0]"
      ],
      "metadata": {
        "colab": {
          "base_uri": "https://localhost:8080/",
          "height": 35
        },
        "id": "lmnW_pHlMR7L",
        "outputId": "f9982312-883c-488f-cc9b-d518bdf81643"
      },
      "execution_count": 50,
      "outputs": [
        {
          "output_type": "execute_result",
          "data": {
            "text/plain": [
              "'Bahubali'"
            ],
            "application/vnd.google.colaboratory.intrinsic+json": {
              "type": "string"
            }
          },
          "metadata": {},
          "execution_count": 50
        }
      ]
    },
    {
      "cell_type": "code",
      "source": [
        "df1.select('reviews').agg({'reviews':'sum'}).withColumnRenamed('sum(reviews)','total_reviews').collect()[0][0]"
      ],
      "metadata": {
        "colab": {
          "base_uri": "https://localhost:8080/"
        },
        "id": "R6Hrb_ggMR8g",
        "outputId": "4f348e95-fddc-473b-e0e9-6606df2f9abe"
      },
      "execution_count": 57,
      "outputs": [
        {
          "output_type": "execute_result",
          "data": {
            "text/plain": [
              "5276.0"
            ]
          },
          "metadata": {},
          "execution_count": 57
        }
      ]
    },
    {
      "cell_type": "code",
      "source": [
        "df1.select('reviews').agg({'reviews':'count'}).withColumnRenamed('sum(reviews)','total_reviews').collect()[0][0]"
      ],
      "metadata": {
        "colab": {
          "base_uri": "https://localhost:8080/"
        },
        "id": "g-Fnvd3_MR-a",
        "outputId": "2fc6e946-f538-4023-f7dd-b83637609b7a"
      },
      "execution_count": 58,
      "outputs": [
        {
          "output_type": "execute_result",
          "data": {
            "text/plain": [
              "10"
            ]
          },
          "metadata": {},
          "execution_count": 58
        }
      ]
    },
    {
      "cell_type": "code",
      "source": [
        "moviesDF\n",
        "movieId,movieName,year,fansReview,criticsReview\n",
        "1,Parmanu,2018,200,100\n",
        "2,URI,2019,300,200\n",
        "3,rrr,2022,300,200\n",
        "4,Bahubali,2015,500,400\n",
        "5,tanhaji,2020,600,500\n",
        "genreDF\n",
        "movieId,genre\n",
        "1,tech\n",
        "2,history\n",
        "2,action\n",
        "4,action\n",
        "3,action\n",
        "1,science\n",
        "4,fiction\n",
        "5,history\n",
        "5,action\n",
        "4,mass"
      ],
      "metadata": {
        "id": "SbEk6-XvMR_t"
      },
      "execution_count": null,
      "outputs": []
    },
    {
      "cell_type": "code",
      "source": [
        "%%writefile moviesdf.csv\n",
        "movieId,movieName,year,fansReview,criticsReview\n",
        "1,Parmanu,2018,200,100\n",
        "2,URI,2019,300,200\n",
        "3,rrr,2022,300,200\n",
        "4,Bahubali,2015,500,400\n",
        "5,tanhaji,2020,600,500"
      ],
      "metadata": {
        "colab": {
          "base_uri": "https://localhost:8080/"
        },
        "id": "Sy48vfXMMSBm",
        "outputId": "601ae4dc-c307-40ea-9162-051a7c98bfb0"
      },
      "execution_count": 59,
      "outputs": [
        {
          "output_type": "stream",
          "name": "stdout",
          "text": [
            "Writing moviesdf.csv\n"
          ]
        }
      ]
    },
    {
      "cell_type": "code",
      "source": [
        "%%writefile genredf.csv\n",
        "movieId,genre\n",
        "1,tech\n",
        "2,history\n",
        "2,action\n",
        "4,action\n",
        "3,action\n",
        "1,science\n",
        "4,fiction\n",
        "5,history\n",
        "5,action\n",
        "4,mass"
      ],
      "metadata": {
        "colab": {
          "base_uri": "https://localhost:8080/"
        },
        "id": "XTzPOMt3MSC_",
        "outputId": "0683f3ec-6657-45f2-861f-8bae1a631c80"
      },
      "execution_count": 64,
      "outputs": [
        {
          "output_type": "stream",
          "name": "stdout",
          "text": [
            "Overwriting genredf.csv\n"
          ]
        }
      ]
    },
    {
      "cell_type": "code",
      "source": [
        "spark=SparkSession.builder.appName('def').getOrCreate()"
      ],
      "metadata": {
        "id": "ZXetC93sMSEa"
      },
      "execution_count": 61,
      "outputs": []
    },
    {
      "cell_type": "code",
      "source": [
        "k=spark.read.option('header','True').csv('moviesdf.csv')\n",
        "k1=spark.read.option('header','True').csv('genredf.csv')"
      ],
      "metadata": {
        "id": "EbRk3rOsMSF4"
      },
      "execution_count": 74,
      "outputs": []
    },
    {
      "cell_type": "code",
      "source": [
        "\n",
        "#Find top movies by fansReview to criticsReview ratio. Hint - Add a column for same\n",
        "#Order moviesDF by year to get latest movie\n",
        "#Join dataframes on movieID & find most popular genr"
      ],
      "metadata": {
        "id": "KMmjrLyTMSHM"
      },
      "execution_count": 68,
      "outputs": []
    },
    {
      "cell_type": "code",
      "source": [
        "k.withColumn('ratio',col('fansReview')/col('criticsReview'))\n",
        "k.orderBy('year',ascending=False).show(1)"
      ],
      "metadata": {
        "colab": {
          "base_uri": "https://localhost:8080/"
        },
        "id": "Isr4NyDPMSIi",
        "outputId": "6c388dca-53aa-46d3-c69d-27758519001c"
      },
      "execution_count": 85,
      "outputs": [
        {
          "output_type": "stream",
          "name": "stdout",
          "text": [
            "+-------+---------+----+----------+-------------+\n",
            "|movieId|movieName|year|fansReview|criticsReview|\n",
            "+-------+---------+----+----------+-------------+\n",
            "|      3|      rrr|2022|       300|          200|\n",
            "+-------+---------+----+----------+-------------+\n",
            "only showing top 1 row\n",
            "\n"
          ]
        }
      ]
    },
    {
      "cell_type": "code",
      "source": [
        "from pyspark.sql import SparkSession\n",
        "from pyspark.sql.functions import concat,col,lit,min,max,expr,count,mode"
      ],
      "metadata": {
        "id": "iz3NjTABMSKC"
      },
      "execution_count": 81,
      "outputs": []
    },
    {
      "cell_type": "code",
      "source": [
        "x=k.join(k1,'movieId')\n",
        "#x.select(mode('genre')).show()\n",
        "y=x.groupby('genre').agg({'genre':'count'}).orderBy('count(genre)',ascending=False)"
      ],
      "metadata": {
        "id": "Rgq4jp1xMSLX"
      },
      "execution_count": 102,
      "outputs": []
    },
    {
      "cell_type": "code",
      "source": [
        "print(y.rdd.first()[0])"
      ],
      "metadata": {
        "colab": {
          "base_uri": "https://localhost:8080/"
        },
        "id": "KkRdTwycMSMq",
        "outputId": "03d4ef49-ce99-41fe-8f32-8a003c754de5"
      },
      "execution_count": 103,
      "outputs": [
        {
          "output_type": "stream",
          "name": "stdout",
          "text": [
            "action\n"
          ]
        }
      ]
    },
    {
      "cell_type": "code",
      "source": [],
      "metadata": {
        "id": "fG-N-N75MSOH"
      },
      "execution_count": null,
      "outputs": []
    },
    {
      "cell_type": "code",
      "source": [
        "y.rdd.flatMap(lambda x:[x[0]]).collect()"
      ],
      "metadata": {
        "colab": {
          "base_uri": "https://localhost:8080/"
        },
        "id": "_swCwBZkMSPV",
        "outputId": "c4d65d40-0e47-481e-c9e3-89361310ca76"
      },
      "execution_count": 106,
      "outputs": [
        {
          "output_type": "execute_result",
          "data": {
            "text/plain": [
              "['action', 'history', 'mass', 'fiction', 'science', 'tech']"
            ]
          },
          "metadata": {},
          "execution_count": 106
        }
      ]
    },
    {
      "cell_type": "code",
      "source": [],
      "metadata": {
        "id": "XIfA9Tz-MSQ6"
      },
      "execution_count": null,
      "outputs": []
    },
    {
      "cell_type": "code",
      "source": [],
      "metadata": {
        "id": "ndEZMO1jMSSJ"
      },
      "execution_count": null,
      "outputs": []
    },
    {
      "cell_type": "code",
      "source": [],
      "metadata": {
        "id": "bCG4Z2WiMSTu"
      },
      "execution_count": null,
      "outputs": []
    },
    {
      "cell_type": "code",
      "source": [],
      "metadata": {
        "id": "7P9K1-FMMSU1"
      },
      "execution_count": null,
      "outputs": []
    },
    {
      "cell_type": "code",
      "source": [],
      "metadata": {
        "id": "bzs42D1eMSWi"
      },
      "execution_count": null,
      "outputs": []
    },
    {
      "cell_type": "code",
      "source": [],
      "metadata": {
        "id": "En7ScdTxMSXm"
      },
      "execution_count": null,
      "outputs": []
    },
    {
      "cell_type": "code",
      "source": [],
      "metadata": {
        "id": "CUMSCk38MSZK"
      },
      "execution_count": null,
      "outputs": []
    },
    {
      "cell_type": "code",
      "source": [],
      "metadata": {
        "id": "jbaX9bE9MSZ8"
      },
      "execution_count": null,
      "outputs": []
    }
  ],
  "metadata": {
    "colab": {
      "name": "Welcome To Colab",
      "provenance": [],
      "include_colab_link": true
    },
    "kernelspec": {
      "display_name": "Python 3",
      "name": "python3"
    }
  },
  "nbformat": 4,
  "nbformat_minor": 0
}